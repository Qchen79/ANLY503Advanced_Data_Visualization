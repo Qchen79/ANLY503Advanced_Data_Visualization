{
 "cells": [
  {
   "attachments": {},
   "cell_type": "markdown",
   "metadata": {},
   "source": [
    "---\n",
    "title: \"503-Data-Cleaning\"\n",
    "author: \"Yiming Chen\"\n",
    "format: \n",
    "  html:\n",
    "      embed-resources: true\n",
    "      code-copy: true\n",
    "      code-fold: true\n",
    "      code-line-numbers: true\n",
    "      number-sections: true\n",
    "      toc: true\n",
    "execute:\n",
    "  echo: true\n",
    "---"
   ]
  },
  {
   "cell_type": "code",
   "execution_count": 2,
   "metadata": {},
   "outputs": [],
   "source": [
    "import pandas as pd\n",
    "import numpy as np\n",
    "import plotly.graph_objects as go\n",
    "import plotly.express as px\n",
    "import plotly.io as pio\n",
    "import geopandas\n",
    "\n",
    "pio.renderers.default = \"plotly_mimetype+notebook_connected\""
   ]
  },
  {
   "cell_type": "code",
   "execution_count": 4,
   "metadata": {},
   "outputs": [],
   "source": [
    "# read in excel file\n",
    "df = pd.read_excel(\"../../data/raw/gender_index_data/Gender_Inequality_Index.xlsx\",sheet_name=\"Table 5\", skiprows=7, nrows=195)\n",
    "\n",
    "# keep and rename two columns\n",
    "df = df.rename({'VERY HIGH HUMAN DEVELOPMENT':'Country', \"Unnamed: 2\":'Gender_Inequality_Index'}, axis='columns')\n",
    "\n",
    "# keep only the country and gender inquality index columns\n",
    "df1 = df[[\"Country\", \"Gender_Inequality_Index\"]]\n",
    "\n",
    "# drop all the rows with NA (e.g. VERY HIGH/HIGH/MEDIUM... HUMAN DEVELOPMENT)\n",
    "df1 = df1.dropna()\n",
    "\n",
    "# remove the countries that do not have an available gender inequality index value\n",
    "df2 = df1[df1.Gender_Inequality_Index != \"..\"]\n",
    "\n",
    "# reset index number\n",
    "df2 = df2.reset_index(drop=True)\n",
    "\n",
    "#df2.to_csv(\"df2.csv\", sep='\\t', encoding='utf-8')"
   ]
  },
  {
   "cell_type": "code",
   "execution_count": 5,
   "metadata": {},
   "outputs": [],
   "source": [
    "# 21\n",
    "df2[\"Country\"] = df2[\"Country\"].replace(\"Tanzania (United Republic of)\", \"Tanzania\")\n",
    "df2[\"Country\"] = df2[\"Country\"].replace(\"United States\", \"United States of America\")\n",
    "df2[\"Country\"] = df2[\"Country\"].replace(\"Congo (Democratic Republic of the)\", \"Dem. Rep. Congo\")\n",
    "df2[\"Country\"] = df2[\"Country\"].replace(\"Russian Federation\", \"Russia\")\n",
    "df2[\"Country\"] = df2[\"Country\"].replace(\"Bolivia (Plurinational State of)\", \"Bolivia\")\n",
    "df2[\"Country\"] = df2[\"Country\"].replace(\"Venezuela (Bolivarian Republic of)\", \"Venezuela\")\n",
    "df2[\"Country\"] = df2[\"Country\"].replace(\"Central African Republic\", \"Central African Rep.\")\n",
    "df2[\"Country\"] = df2[\"Country\"].replace(\"Equatorial Guinea\", \"Eq. Guinea\")\n",
    "df2[\"Country\"] = df2[\"Country\"].replace(\"Eswatini (Kingdom of)\", \"eSwatini\")\n",
    "df2[\"Country\"] = df2[\"Country\"].replace(\"Lao People's Democratic Republic\", \"Laos\")\n",
    "df2[\"Country\"] = df2[\"Country\"].replace(\"Viet Nam\", \"Vietnam\")\n",
    "df2[\"Country\"] = df2[\"Country\"].replace(\"Korea (Republic of)\", \"South Korea\")\n",
    "df2[\"Country\"] = df2[\"Country\"].replace(\"Iran (Islamic Republic of)\", \"Iran\")\n",
    "df2[\"Country\"] = df2[\"Country\"].replace(\"Syrian Arab Republic\", \"Syria\")\n",
    "df2[\"Country\"] = df2[\"Country\"].replace(\"Moldova (Republic of)\", \"Moldova\")\n",
    "df2[\"Country\"] = df2[\"Country\"].replace(\"Türkiye\", \"Turkey\")\n",
    "df2[\"Country\"] = df2[\"Country\"].replace(\"Brunei Darussalam\", \"Brunei\")\n",
    "df2[\"Country\"] = df2[\"Country\"].replace(\"Cyprus\", \"N. Cyprus\")\n",
    "df2[\"Country\"] = df2[\"Country\"].replace(\"Bosnia and Herzegovina\", \"Bosnia and Herz.\")\n",
    "df2[\"Country\"] = df2[\"Country\"].replace(\"South Sudan\", \"S. Sudan\")\n",
    "df2[\"Country\"] = df2[\"Country\"].replace(\"Dominican Republic\", \"Dominican Rep.\")"
   ]
  },
  {
   "cell_type": "code",
   "execution_count": 6,
   "metadata": {},
   "outputs": [
    {
     "name": "stdout",
     "output_type": "stream",
     "text": [
      "       continent                      name iso_a3\n",
      "0        Oceania                      Fiji    FJI\n",
      "1         Africa                  Tanzania    TZA\n",
      "2         Africa                 W. Sahara    ESH\n",
      "3  North America                    Canada    CAN\n",
      "4  North America  United States of America    USA\n"
     ]
    }
   ],
   "source": [
    "world = geopandas.read_file(geopandas.datasets.get_path('naturalearth_lowres'))\n",
    "world = world[[\"continent\", \"name\", \"iso_a3\"]]\n",
    "#world.to_csv(\"world.csv\", sep='\\t', encoding='utf-8')\n",
    "print(world.head())"
   ]
  },
  {
   "cell_type": "code",
   "execution_count": 7,
   "metadata": {},
   "outputs": [],
   "source": [
    "df3 = world.merge(df2, how=\"left\", left_on=['name'], right_on=['Country'])\n",
    "#df3.to_csv(\"df3.csv\", sep='\\t', encoding='utf-8')\n",
    "#df3"
   ]
  },
  {
   "cell_type": "code",
   "execution_count": 8,
   "metadata": {},
   "outputs": [
    {
     "data": {
      "text/plain": [
       "continent                   0\n",
       "name                        0\n",
       "iso_a3                      0\n",
       "Country                    19\n",
       "Gender_Inequality_Index    19\n",
       "dtype: int64"
      ]
     },
     "execution_count": 8,
     "metadata": {},
     "output_type": "execute_result"
    }
   ],
   "source": [
    "df3.isna().sum()"
   ]
  },
  {
   "cell_type": "code",
   "execution_count": 9,
   "metadata": {},
   "outputs": [],
   "source": [
    "df4 = df3.dropna()\n",
    "#df4.to_csv(\"df4.csv\", sep='\\t', encoding='utf-8')\n",
    "#df4['continent'] = df4['continent'].replace(\"North America\", \"North_America\")\n",
    "#df4['continent'] = df4['continent'].replace(\"South America\", \"South_America\")\n",
    "#df4.head()"
   ]
  },
  {
   "cell_type": "code",
   "execution_count": 10,
   "metadata": {},
   "outputs": [],
   "source": [
    "all_time = pd.read_csv(\"../../data/raw/gender_index_data/All_Indices_Timeseries.txt\")\n",
    "# select only gender inequality index from 1990-2021\n",
    "all_time = all_time[['iso3','country','gii_1990', 'gii_1991', 'gii_1992', 'gii_1993', 'gii_1994', 'gii_1995', 'gii_1996', 'gii_1997', 'gii_1998', 'gii_1999', 'gii_2000', 'gii_2001', 'gii_2002', 'gii_2003', 'gii_2004', 'gii_2005', 'gii_2006', 'gii_2007', 'gii_2008', 'gii_2009','gii_2010','gii_2011','gii_2012','gii_2013', 'gii_2014', 'gii_2015', 'gii_2016', 'gii_2017', 'gii_2018', 'gii_2019', 'gii_2020', 'gii_2021']]"
   ]
  },
  {
   "cell_type": "code",
   "execution_count": 11,
   "metadata": {},
   "outputs": [
    {
     "name": "stdout",
     "output_type": "stream",
     "text": [
      "  iso3               country  Year  Gender_Inequality_Index\n",
      "1  AGO                Angola  1990                    0.725\n",
      "4  ARE  United Arab Emirates  1990                    0.659\n",
      "5  ARG             Argentina  1990                    0.442\n",
      "6  ARM               Armenia  1990                    0.470\n",
      "8  AUS             Australia  1990                    0.185\n"
     ]
    }
   ],
   "source": [
    "all_time = all_time.melt(id_vars=[\"iso3\", \"country\"],\n",
    "              var_name=\"Year\",\n",
    "              value_name=\"Gender_Inequality_Index\")\n",
    "\n",
    "all_time[\"Year\"] = all_time[\"Year\"].str.replace(\"gii_\", \"\")\n",
    "all_time = all_time.dropna()\n",
    "print(all_time.head())"
   ]
  },
  {
   "cell_type": "code",
   "execution_count": 47,
   "metadata": {},
   "outputs": [],
   "source": [
    "all_time.to_csv(\"all_year_GII.csv\", sep='\\t', encoding='utf-8')"
   ]
  }
 ],
 "metadata": {
  "kernelspec": {
   "display_name": "anly503",
   "language": "python",
   "name": "python3"
  },
  "language_info": {
   "codemirror_mode": {
    "name": "ipython",
    "version": 3
   },
   "file_extension": ".py",
   "mimetype": "text/x-python",
   "name": "python",
   "nbconvert_exporter": "python",
   "pygments_lexer": "ipython3",
   "version": "3.9.12"
  },
  "orig_nbformat": 4
 },
 "nbformat": 4,
 "nbformat_minor": 2
}
