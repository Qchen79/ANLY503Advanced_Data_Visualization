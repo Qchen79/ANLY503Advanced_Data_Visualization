{
 "cells": [
  {
   "cell_type": "raw",
   "metadata": {},
   "source": [
    "---\n",
    "title: \"Project - Data Cleaning\"\n",
    "author:\n",
    "  - name: Jinqi Zhang\n",
    "date: \"04/02/2023\"\n",
    "format:\n",
    "  html:\n",
    "    toc: true\n",
    "    embed-resources: true\n",
    "    code-line-numbers: true\n",
    "    number-sections: true\n",
    "    theme: Simplex\n",
    "execute:\n",
    "  echo: true\n",
    "---"
   ]
  },
  {
   "cell_type": "code",
   "execution_count": 1,
   "metadata": {},
   "outputs": [],
   "source": [
    "#| echo: false\n",
    "#| include: false\n",
    "import pandas as pd\n",
    "import os\n",
    "from datetime import datetime\n",
    "import altair as alt\n",
    "import datetime\n",
    "import matplotlib as plt\n",
    "import seaborn as sns\n",
    "import matplotlib.pyplot as plt\n",
    "from matplotlib.dates import HourLocator, DateFormatter\n",
    "\n",
    "import plotly.graph_objects as go\n",
    "import plotly.express as px\n",
    "import plotly.io as pio\n",
    "from plotly.subplots import make_subplots\n",
    "import plotly.express as px\n",
    "import plotly.offline as pyo\n",
    "import plotly.tools as tls\n",
    "\n",
    "import warnings\n",
    "warnings.filterwarnings('ignore')\n",
    "\n",
    "pio.renderers.default = \"plotly_mimetype+notebook_connected\""
   ]
  },
  {
   "attachments": {},
   "cell_type": "markdown",
   "metadata": {},
   "source": [
    "## Decision Making Data "
   ]
  },
  {
   "cell_type": "code",
   "execution_count": 68,
   "metadata": {},
   "outputs": [],
   "source": [
    "# Academics\n",
    "# Import data\n",
    "df_ad = pd.read_csv(\"Data/Politics/WMID_Acdemics_1.csv\")\n",
    "\n",
    "df_ad2 = df_ad[(df_ad['time'] == 2021) & (df_ad['_UNIT'] == 'NR')]\n",
    "\n",
    "# Count number of people in each gender by country\n",
    "gender = df_ad2.groupby(['geo', 'sex'])['value'].sum().reset_index()\n",
    "gender = gender.rename(columns={'value': 'headcount'})\n",
    "\n",
    "\n",
    "# Get unique countries\n",
    "country = gender['geo'].unique()\n",
    "\n",
    "# Filter out unwanted countries\n",
    "unwanted_countries = [\"European Union - 27 countries (from 2020)\", \n",
    "                      \"European Union - 28 countries (1993-2020)\", \n",
    "                      \"Instrument for Pre-accession Assistance (IPA) countries\"]\n",
    "\n",
    "gender_1 = gender[~gender['geo'].isin(unwanted_countries)]\n",
    "\n",
    "# pivot the DataFrame to create the wide format\n",
    "df_1 = gender_1.pivot_table(index='geo', columns='sex', values='headcount').reset_index()\n",
    "\n",
    "df_1['category'] = 'Academics'\n"
   ]
  },
  {
   "cell_type": "code",
   "execution_count": 70,
   "metadata": {},
   "outputs": [],
   "source": [
    "# Judiciary\n",
    "# Importing data from CSV file\n",
    "df_jd = pd.read_csv(\"Data/Politics/WMID_Judiciary_1.csv\", encoding='UTF-8')\n",
    "\n",
    "# Renaming the first column to \"time\"\n",
    "df_jd = df_jd.rename(columns={'Unnamed: 0': 'time'})\n",
    "\n",
    "# Filtering data based on conditions\n",
    "df_jd2 = df_jd[(df_jd['time'] == 2021) & (df_jd['_UNIT'] == 'NR')]\n",
    "\n",
    "# Counting number of people in each gender by country\n",
    "gender_ju = df_jd2.groupby(['geo', 'sex']).agg({'value': 'sum'}).reset_index()\n",
    "gender_ju = gender_ju.rename(columns={'value': 'headcount'})\n",
    "\n",
    "# Removing unwanted countries\n",
    "unwanted_countries = [\"European Union - 27 countries (from 2020)\", \n",
    "                      \"European Union - 28 countries (1993-2020)\", \n",
    "                      \"Instrument for Pre-accession Assistance (IPA) beneficiaries\"]\n",
    "\n",
    "gender_ju_1 = gender_ju[~gender_ju['geo'].isin(unwanted_countries)]\n",
    "\n",
    "df_2 = gender_ju_1.pivot_table(index='geo', columns='sex', values='headcount').reset_index()\n",
    "\n",
    "df_2['category'] = 'Judiciary'"
   ]
  },
  {
   "cell_type": "code",
   "execution_count": 71,
   "metadata": {},
   "outputs": [],
   "source": [
    "# Business\n",
    "\n",
    "# Importing data from CSV file\n",
    "df_bs = pd.read_csv(\"Data/Politics/WMID_Business_1.csv\", encoding='UTF-8')\n",
    "\n",
    "\n",
    "# Renaming the first column to \"time\"\n",
    "df_bs = df_bs.rename(columns={'Unnamed: 0': 'time'})\n",
    "\n",
    "# Filtering data based on conditions\n",
    "df_bs2 = df_bs[(df_bs['time'] == '2021-B2') & (df_bs['_UNIT'] == 'NR')]\n",
    "\n",
    "# Counting number of people in each gender by sector\n",
    "gender_bs = df_bs2.groupby(['NACE', 'sex']).agg({'value': 'sum'}).reset_index()\n",
    "gender_bs = gender_bs.rename(columns={'value': 'headcount'})\n",
    "\n",
    "\n",
    "# Removing unwanted sectors\n",
    "unwanted_sectors = [\"A, B, K-Q & Unknown - aggregate of sectors with few large companies\", \n",
    "                    \"C, E & F (Mining & quarrying; electricity, gas and water; construction)\", \n",
    "                    \"G, H & I (Wholesale/retail, vehicle repair; hotels/restaurants; transport, storage & communication)\"]\n",
    "gender_bs_1 = gender_bs[~gender_bs['NACE'].isin(unwanted_sectors)]\n",
    "\n",
    "#gender_bs_1 \n",
    "gender_bs_1 = gender_bs_1.rename(columns={'NACE':'geo'})\n",
    "\n",
    "df_3 = gender_bs_1.pivot_table(index='geo', columns='sex', values='headcount').reset_index()\n",
    "\n",
    "df_3['category'] = 'Business'"
   ]
  },
  {
   "cell_type": "code",
   "execution_count": 84,
   "metadata": {},
   "outputs": [
    {
     "data": {
      "text/plain": [
       "array(['A Agriculture, hunting and forestry', 'B Fishing',\n",
       "       'C Mining and quarrying', 'D Manufacturing',\n",
       "       'E Electricity, gas and water supply', 'F Construction',\n",
       "       'G Wholesale and retail trade; repair of motor vehicles, motorcycles and personal and household goods',\n",
       "       'H Hotels and restaurants',\n",
       "       'I Transport, storage and communication',\n",
       "       'J Financial intermediation',\n",
       "       'K Real estate, renting and business activities, consulting',\n",
       "       'L Public administration and defence; compulsory social security',\n",
       "       'N Health and social work',\n",
       "       'O Other community, social and personal service activities'],\n",
       "      dtype=object)"
      ]
     },
     "execution_count": 84,
     "metadata": {},
     "output_type": "execute_result"
    }
   ],
   "source": [
    "df_3['geo'].unique()"
   ]
  },
  {
   "cell_type": "code",
   "execution_count": 76,
   "metadata": {},
   "outputs": [],
   "source": [
    "# Save data\n",
    "df = pd.concat([df_1, df_2,df_3], axis=0)\n",
    "df.to_csv(\"DM_clean.csv\",encoding='UTF-8',index=False)"
   ]
  },
  {
   "attachments": {},
   "cell_type": "markdown",
   "metadata": {},
   "source": [
    "## Paid and Unpaid Data"
   ]
  },
  {
   "cell_type": "code",
   "execution_count": 3,
   "metadata": {},
   "outputs": [
    {
     "data": {
      "text/html": [
       "<div>\n",
       "<style scoped>\n",
       "    .dataframe tbody tr th:only-of-type {\n",
       "        vertical-align: middle;\n",
       "    }\n",
       "\n",
       "    .dataframe tbody tr th {\n",
       "        vertical-align: top;\n",
       "    }\n",
       "\n",
       "    .dataframe thead th {\n",
       "        text-align: right;\n",
       "    }\n",
       "</style>\n",
       "<table border=\"1\" class=\"dataframe\">\n",
       "  <thead>\n",
       "    <tr style=\"text-align: right;\">\n",
       "      <th></th>\n",
       "      <th>COU</th>\n",
       "      <th>Country</th>\n",
       "      <th>Indicator</th>\n",
       "      <th>Sex</th>\n",
       "      <th>Unit</th>\n",
       "      <th>Value</th>\n",
       "    </tr>\n",
       "  </thead>\n",
       "  <tbody>\n",
       "    <tr>\n",
       "      <th>0</th>\n",
       "      <td>AUS</td>\n",
       "      <td>Australia</td>\n",
       "      <td>Time spent in unpaid work, by sex</td>\n",
       "      <td>Men</td>\n",
       "      <td>Minutes per day</td>\n",
       "      <td>171.6</td>\n",
       "    </tr>\n",
       "    <tr>\n",
       "      <th>1</th>\n",
       "      <td>AUS</td>\n",
       "      <td>Australia</td>\n",
       "      <td>Time spent in unpaid work, by sex</td>\n",
       "      <td>Women</td>\n",
       "      <td>Minutes per day</td>\n",
       "      <td>311.0</td>\n",
       "    </tr>\n",
       "    <tr>\n",
       "      <th>2</th>\n",
       "      <td>AUS</td>\n",
       "      <td>Australia</td>\n",
       "      <td>Time spent in paid work, by sex</td>\n",
       "      <td>Men</td>\n",
       "      <td>Minutes per day</td>\n",
       "      <td>304.1</td>\n",
       "    </tr>\n",
       "    <tr>\n",
       "      <th>3</th>\n",
       "      <td>AUS</td>\n",
       "      <td>Australia</td>\n",
       "      <td>Time spent in paid work, by sex</td>\n",
       "      <td>Women</td>\n",
       "      <td>Minutes per day</td>\n",
       "      <td>172.0</td>\n",
       "    </tr>\n",
       "    <tr>\n",
       "      <th>4</th>\n",
       "      <td>AUT</td>\n",
       "      <td>Austria</td>\n",
       "      <td>Time spent in unpaid work, by sex</td>\n",
       "      <td>Men</td>\n",
       "      <td>Minutes per day</td>\n",
       "      <td>135.3</td>\n",
       "    </tr>\n",
       "  </tbody>\n",
       "</table>\n",
       "</div>"
      ],
      "text/plain": [
       "   COU    Country                          Indicator    Sex             Unit  \\\n",
       "0  AUS  Australia  Time spent in unpaid work, by sex    Men  Minutes per day   \n",
       "1  AUS  Australia  Time spent in unpaid work, by sex  Women  Minutes per day   \n",
       "2  AUS  Australia    Time spent in paid work, by sex    Men  Minutes per day   \n",
       "3  AUS  Australia    Time spent in paid work, by sex  Women  Minutes per day   \n",
       "4  AUT    Austria  Time spent in unpaid work, by sex    Men  Minutes per day   \n",
       "\n",
       "   Value  \n",
       "0  171.6  \n",
       "1  311.0  \n",
       "2  304.1  \n",
       "3  172.0  \n",
       "4  135.3  "
      ]
     },
     "execution_count": 3,
     "metadata": {},
     "output_type": "execute_result"
    }
   ],
   "source": [
    "df_time = pd.read_csv(\"Data/Employment/Gender_paid_unpaid.csv\")\n",
    "\n",
    "df_time.head()"
   ]
  },
  {
   "cell_type": "code",
   "execution_count": 5,
   "metadata": {},
   "outputs": [],
   "source": [
    "df_paid = df_time[df_time['Indicator'] == 'Time spent in paid work, by sex']\n",
    "df_unpaid = df_time[df_time['Indicator'] == 'Time spent in unpaid work, by sex']"
   ]
  },
  {
   "cell_type": "code",
   "execution_count": 12,
   "metadata": {},
   "outputs": [
    {
     "data": {
      "text/html": [
       "<div>\n",
       "<style scoped>\n",
       "    .dataframe tbody tr th:only-of-type {\n",
       "        vertical-align: middle;\n",
       "    }\n",
       "\n",
       "    .dataframe tbody tr th {\n",
       "        vertical-align: top;\n",
       "    }\n",
       "\n",
       "    .dataframe thead th {\n",
       "        text-align: right;\n",
       "    }\n",
       "</style>\n",
       "<table border=\"1\" class=\"dataframe\">\n",
       "  <thead>\n",
       "    <tr style=\"text-align: right;\">\n",
       "      <th>Sex</th>\n",
       "      <th>Country</th>\n",
       "      <th>Men</th>\n",
       "      <th>Women</th>\n",
       "      <th>Category</th>\n",
       "    </tr>\n",
       "  </thead>\n",
       "  <tbody>\n",
       "    <tr>\n",
       "      <th>0</th>\n",
       "      <td>Australia</td>\n",
       "      <td>304.1</td>\n",
       "      <td>172.0</td>\n",
       "      <td>Paid</td>\n",
       "    </tr>\n",
       "    <tr>\n",
       "      <th>1</th>\n",
       "      <td>Austria</td>\n",
       "      <td>364.8</td>\n",
       "      <td>248.8</td>\n",
       "      <td>Paid</td>\n",
       "    </tr>\n",
       "    <tr>\n",
       "      <th>2</th>\n",
       "      <td>Belgium</td>\n",
       "      <td>273.7</td>\n",
       "      <td>199.2</td>\n",
       "      <td>Paid</td>\n",
       "    </tr>\n",
       "    <tr>\n",
       "      <th>3</th>\n",
       "      <td>Canada</td>\n",
       "      <td>340.5</td>\n",
       "      <td>268.3</td>\n",
       "      <td>Paid</td>\n",
       "    </tr>\n",
       "    <tr>\n",
       "      <th>4</th>\n",
       "      <td>China (People's Republic of)</td>\n",
       "      <td>390.0</td>\n",
       "      <td>291.0</td>\n",
       "      <td>Paid</td>\n",
       "    </tr>\n",
       "  </tbody>\n",
       "</table>\n",
       "</div>"
      ],
      "text/plain": [
       "Sex                       Country    Men  Women Category\n",
       "0                       Australia  304.1  172.0     Paid\n",
       "1                         Austria  364.8  248.8     Paid\n",
       "2                         Belgium  273.7  199.2     Paid\n",
       "3                          Canada  340.5  268.3     Paid\n",
       "4    China (People's Republic of)  390.0  291.0     Paid"
      ]
     },
     "execution_count": 12,
     "metadata": {},
     "output_type": "execute_result"
    }
   ],
   "source": [
    "df_paid_1 = df_paid.pivot_table(index='Country', columns='Sex', values='Value').reset_index()\n",
    "df_paid_1['Category'] = 'Paid'\n",
    "\n",
    "df_unpaid_1 = df_unpaid.pivot_table(index='Country', columns='Sex', values='Value').reset_index()\n",
    "df_unpaid_1['Category'] = 'Unpaid'\n",
    "\n",
    "df_full = pd.concat([df_paid_1,df_unpaid_1 ],axis=0)\n",
    "\n",
    "df_full.head()"
   ]
  },
  {
   "cell_type": "code",
   "execution_count": 13,
   "metadata": {},
   "outputs": [],
   "source": [
    "df_full.to_csv(\"work_clean.csv\",encoding='UTF-8',index=False)"
   ]
  }
 ],
 "metadata": {
  "kernelspec": {
   "display_name": "anly503",
   "language": "python",
   "name": "python3"
  },
  "language_info": {
   "codemirror_mode": {
    "name": "ipython",
    "version": 3
   },
   "file_extension": ".py",
   "mimetype": "text/x-python",
   "name": "python",
   "nbconvert_exporter": "python",
   "pygments_lexer": "ipython3",
   "version": "3.10.8"
  },
  "orig_nbformat": 4
 },
 "nbformat": 4,
 "nbformat_minor": 2
}
