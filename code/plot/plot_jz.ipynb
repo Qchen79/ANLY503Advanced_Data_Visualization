{
 "cells": [
  {
   "cell_type": "raw",
   "metadata": {},
   "source": [
    "---\n",
    "title: \"Untitled\"\n",
    "format: html\n",
    "---"
   ]
  },
  {
   "cell_type": "code",
   "execution_count": 7,
   "metadata": {},
   "outputs": [],
   "source": [
    "#| echo: false\n",
    "#| include: false\n",
    "import pandas as pd\n",
    "import matplotlib.pyplot as plt\n",
    "\n",
    "import plotly.graph_objects as go\n",
    "import plotly.express as px\n",
    "import plotly.io as pio\n",
    "import plotly.express as px\n",
    "import plotly.offline as pyo\n",
    "import plotly.tools as tls\n",
    "from plotly.subplots import make_subplots\n",
    "\n",
    "import warnings\n",
    "warnings.filterwarnings('ignore')\n",
    "\n",
    "pio.renderers.default = \"plotly_mimetype+notebook_connected\""
   ]
  },
  {
   "attachments": {},
   "cell_type": "markdown",
   "metadata": {},
   "source": [
    "## Connected Dot Plot"
   ]
  },
  {
   "cell_type": "code",
   "execution_count": 66,
   "metadata": {},
   "outputs": [
    {
     "data": {
      "text/html": [
       "<div>\n",
       "<style scoped>\n",
       "    .dataframe tbody tr th:only-of-type {\n",
       "        vertical-align: middle;\n",
       "    }\n",
       "\n",
       "    .dataframe tbody tr th {\n",
       "        vertical-align: top;\n",
       "    }\n",
       "\n",
       "    .dataframe thead th {\n",
       "        text-align: right;\n",
       "    }\n",
       "</style>\n",
       "<table border=\"1\" class=\"dataframe\">\n",
       "  <thead>\n",
       "    <tr style=\"text-align: right;\">\n",
       "      <th></th>\n",
       "      <th>geo</th>\n",
       "      <th>Men</th>\n",
       "      <th>Women</th>\n",
       "      <th>category</th>\n",
       "    </tr>\n",
       "  </thead>\n",
       "  <tbody>\n",
       "    <tr>\n",
       "      <th>0</th>\n",
       "      <td>Albania</td>\n",
       "      <td>6.0</td>\n",
       "      <td>0.0</td>\n",
       "      <td>Academics</td>\n",
       "    </tr>\n",
       "    <tr>\n",
       "      <th>1</th>\n",
       "      <td>Austria</td>\n",
       "      <td>5.0</td>\n",
       "      <td>0.0</td>\n",
       "      <td>Academics</td>\n",
       "    </tr>\n",
       "    <tr>\n",
       "      <th>2</th>\n",
       "      <td>Belgium</td>\n",
       "      <td>45.0</td>\n",
       "      <td>26.0</td>\n",
       "      <td>Academics</td>\n",
       "    </tr>\n",
       "    <tr>\n",
       "      <th>3</th>\n",
       "      <td>Bosnia and Herzegovina</td>\n",
       "      <td>13.0</td>\n",
       "      <td>4.0</td>\n",
       "      <td>Academics</td>\n",
       "    </tr>\n",
       "    <tr>\n",
       "      <th>4</th>\n",
       "      <td>Bulgaria</td>\n",
       "      <td>13.0</td>\n",
       "      <td>15.0</td>\n",
       "      <td>Academics</td>\n",
       "    </tr>\n",
       "  </tbody>\n",
       "</table>\n",
       "</div>"
      ],
      "text/plain": [
       "                      geo   Men  Women   category\n",
       "0                 Albania   6.0    0.0  Academics\n",
       "1                 Austria   5.0    0.0  Academics\n",
       "2                 Belgium  45.0   26.0  Academics\n",
       "3  Bosnia and Herzegovina  13.0    4.0  Academics\n",
       "4                Bulgaria  13.0   15.0  Academics"
      ]
     },
     "execution_count": 66,
     "metadata": {},
     "output_type": "execute_result"
    }
   ],
   "source": [
    "df = pd.read_csv(\"DM_clean.csv\", encoding='UTF-8')\n",
    "df.head()"
   ]
  },
  {
   "cell_type": "code",
   "execution_count": 70,
   "metadata": {},
   "outputs": [
    {
     "data": {
      "application/vnd.plotly.v1+json": {
       "config": {
        "plotlyServerURL": "https://plot.ly"
       },
       "data": [
        {
         "marker": {
          "color": "blue",
          "size": 10
         },
         "mode": "markers",
         "name": "Men",
         "type": "scatter",
         "visible": true,
         "x": [
          6,
          5,
          45,
          13,
          13,
          16,
          5,
          11,
          5,
          3,
          11,
          28,
          36,
          9,
          8,
          34,
          12,
          8,
          6,
          19,
          9,
          1,
          9,
          4,
          11,
          3,
          47,
          7,
          7,
          15,
          21,
          12,
          83,
          42,
          11,
          56
         ],
         "y": [
          "Albania",
          "Austria",
          "Belgium",
          "Bosnia and Herzegovina",
          "Bulgaria",
          "Croatia",
          "Cyprus",
          "Czech Republic",
          "Denmark",
          "EEA countries (non-EU)",
          "Estonia",
          "Finland",
          "France",
          "Germany",
          "Greece",
          "Hungary",
          "Ireland",
          "Italy",
          "Kosovo",
          "Latvia",
          "Lithuania",
          "Luxembourg",
          "Montenegro",
          "Netherlands",
          "North Macedonia",
          "Norway",
          "Poland",
          "Portugal",
          "Romania",
          "Serbia",
          "Slovakia",
          "Slovenia",
          "Spain",
          "Sweden",
          "Turkey",
          "United Kingdom"
         ]
        },
        {
         "marker": {
          "color": "red",
          "size": 10
         },
         "mode": "markers",
         "name": "Women",
         "type": "scatter",
         "visible": true,
         "x": [
          0,
          0,
          26,
          4,
          15,
          2,
          0,
          7,
          2,
          5,
          2,
          14,
          5,
          3,
          2,
          4,
          13,
          1,
          3,
          7,
          0,
          0,
          0,
          4,
          1,
          5,
          8,
          1,
          0,
          0,
          2,
          2,
          15,
          25,
          1,
          41
         ],
         "y": [
          "Albania",
          "Austria",
          "Belgium",
          "Bosnia and Herzegovina",
          "Bulgaria",
          "Croatia",
          "Cyprus",
          "Czech Republic",
          "Denmark",
          "EEA countries (non-EU)",
          "Estonia",
          "Finland",
          "France",
          "Germany",
          "Greece",
          "Hungary",
          "Ireland",
          "Italy",
          "Kosovo",
          "Latvia",
          "Lithuania",
          "Luxembourg",
          "Montenegro",
          "Netherlands",
          "North Macedonia",
          "Norway",
          "Poland",
          "Portugal",
          "Romania",
          "Serbia",
          "Slovakia",
          "Slovenia",
          "Spain",
          "Sweden",
          "Turkey",
          "United Kingdom"
         ]
        },
        {
         "marker": {
          "color": "blue",
          "size": 10
         },
         "mode": "markers",
         "name": "Men",
         "type": "scatter",
         "visible": false,
         "x": [
          7,
          36,
          19,
          28,
          23,
          25,
          10,
          61,
          15,
          24,
          15,
          16,
          60,
          96,
          53,
          35,
          6,
          7,
          234,
          12,
          12,
          6,
          18,
          3,
          9,
          4,
          21,
          10,
          12,
          75,
          39,
          25,
          15,
          43,
          18,
          60,
          12,
          331,
          11
         ],
         "y": [
          "Albania",
          "Austria",
          "Belgium",
          "Bosnia and Herzegovina",
          "Bulgaria",
          "Croatia",
          "Cyprus",
          "Czechia",
          "Denmark",
          "EEA countries (non-EU)",
          "Estonia",
          "Finland",
          "France",
          "Germany",
          "Greece",
          "Hungary",
          "Iceland",
          "Ireland",
          "Italy",
          "Kosovo",
          "Latvia",
          "Liechtenstein",
          "Lithuania",
          "Luxembourg",
          "Malta",
          "Montenegro",
          "Netherlands",
          "North Macedonia",
          "Norway",
          "Poland",
          "Portugal",
          "Romania",
          "Serbia",
          "Slovakia",
          "Slovenia",
          "Spain",
          "Sweden",
          "Turkey",
          "United Kingdom"
         ]
        },
        {
         "marker": {
          "color": "red",
          "size": 10
         },
         "mode": "markers",
         "name": "Women",
         "type": "scatter",
         "visible": false,
         "x": [
          1,
          25,
          11,
          25,
          72,
          12,
          4,
          10,
          4,
          12,
          5,
          6,
          65,
          57,
          27,
          55,
          2,
          2,
          127,
          4,
          21,
          1,
          12,
          2,
          2,
          11,
          15,
          11,
          9,
          22,
          19,
          84,
          27,
          43,
          12,
          14,
          5,
          47,
          2
         ],
         "y": [
          "Albania",
          "Austria",
          "Belgium",
          "Bosnia and Herzegovina",
          "Bulgaria",
          "Croatia",
          "Cyprus",
          "Czechia",
          "Denmark",
          "EEA countries (non-EU)",
          "Estonia",
          "Finland",
          "France",
          "Germany",
          "Greece",
          "Hungary",
          "Iceland",
          "Ireland",
          "Italy",
          "Kosovo",
          "Latvia",
          "Liechtenstein",
          "Lithuania",
          "Luxembourg",
          "Malta",
          "Montenegro",
          "Netherlands",
          "North Macedonia",
          "Norway",
          "Poland",
          "Portugal",
          "Romania",
          "Serbia",
          "Slovakia",
          "Slovenia",
          "Spain",
          "Sweden",
          "Turkey",
          "United Kingdom"
         ]
        },
        {
         "marker": {
          "color": "blue",
          "size": 10
         },
         "mode": "markers",
         "name": "Men",
         "type": "scatter",
         "visible": false,
         "x": [
          72,
          162,
          1772,
          16349,
          4710,
          1675,
          2516,
          1358,
          6421,
          11234,
          2740,
          134,
          460,
          283
         ],
         "y": [
          "A Agriculture, hunting and forestry",
          "B Fishing",
          "C Mining and quarrying",
          "D Manufacturing",
          "E Electricity, gas and water supply",
          "F Construction",
          "G Wholesale and retail trade; repair of motor vehicles, motorcycles and personal and household goods",
          "H Hotels and restaurants",
          "I Transport, storage and communication",
          "J Financial intermediation",
          "K Real estate, renting and business activities, consulting",
          "L Public administration and defence; compulsory social security",
          "N Health and social work",
          "O Other community, social and personal service activities"
         ]
        },
        {
         "marker": {
          "color": "red",
          "size": 10
         },
         "mode": "markers",
         "name": "Women",
         "type": "scatter",
         "visible": false,
         "x": [
          45,
          94,
          673,
          6803,
          1770,
          510,
          1060,
          338,
          2600,
          4751,
          1235,
          38,
          170,
          100
         ],
         "y": [
          "A Agriculture, hunting and forestry",
          "B Fishing",
          "C Mining and quarrying",
          "D Manufacturing",
          "E Electricity, gas and water supply",
          "F Construction",
          "G Wholesale and retail trade; repair of motor vehicles, motorcycles and personal and household goods",
          "H Hotels and restaurants",
          "I Transport, storage and communication",
          "J Financial intermediation",
          "K Real estate, renting and business activities, consulting",
          "L Public administration and defence; compulsory social security",
          "N Health and social work",
          "O Other community, social and personal service activities"
         ]
        }
       ],
       "layout": {
        "height": 800,
        "margin": {
         "b": 0,
         "t": 0
        },
        "shapes": [
         {
          "layer": "below",
          "line": {
           "color": "crimson",
           "width": 3
          },
          "type": "line",
          "x0": 6,
          "x1": 0,
          "y0": 0,
          "y1": 0
         },
         {
          "layer": "below",
          "line": {
           "color": "crimson",
           "width": 3
          },
          "type": "line",
          "x0": 5,
          "x1": 0,
          "y0": 1,
          "y1": 1
         },
         {
          "layer": "below",
          "line": {
           "color": "crimson",
           "width": 3
          },
          "type": "line",
          "x0": 45,
          "x1": 26,
          "y0": 2,
          "y1": 2
         },
         {
          "layer": "below",
          "line": {
           "color": "crimson",
           "width": 3
          },
          "type": "line",
          "x0": 13,
          "x1": 4,
          "y0": 3,
          "y1": 3
         },
         {
          "layer": "below",
          "line": {
           "color": "crimson",
           "width": 3
          },
          "type": "line",
          "x0": 13,
          "x1": 15,
          "y0": 4,
          "y1": 4
         },
         {
          "layer": "below",
          "line": {
           "color": "crimson",
           "width": 3
          },
          "type": "line",
          "x0": 16,
          "x1": 2,
          "y0": 5,
          "y1": 5
         },
         {
          "layer": "below",
          "line": {
           "color": "crimson",
           "width": 3
          },
          "type": "line",
          "x0": 5,
          "x1": 0,
          "y0": 6,
          "y1": 6
         },
         {
          "layer": "below",
          "line": {
           "color": "crimson",
           "width": 3
          },
          "type": "line",
          "x0": 11,
          "x1": 7,
          "y0": 7,
          "y1": 7
         },
         {
          "layer": "below",
          "line": {
           "color": "crimson",
           "width": 3
          },
          "type": "line",
          "x0": 5,
          "x1": 2,
          "y0": 8,
          "y1": 8
         },
         {
          "layer": "below",
          "line": {
           "color": "crimson",
           "width": 3
          },
          "type": "line",
          "x0": 3,
          "x1": 5,
          "y0": 9,
          "y1": 9
         },
         {
          "layer": "below",
          "line": {
           "color": "crimson",
           "width": 3
          },
          "type": "line",
          "x0": 11,
          "x1": 2,
          "y0": 10,
          "y1": 10
         },
         {
          "layer": "below",
          "line": {
           "color": "crimson",
           "width": 3
          },
          "type": "line",
          "x0": 28,
          "x1": 14,
          "y0": 11,
          "y1": 11
         },
         {
          "layer": "below",
          "line": {
           "color": "crimson",
           "width": 3
          },
          "type": "line",
          "x0": 36,
          "x1": 5,
          "y0": 12,
          "y1": 12
         },
         {
          "layer": "below",
          "line": {
           "color": "crimson",
           "width": 3
          },
          "type": "line",
          "x0": 9,
          "x1": 3,
          "y0": 13,
          "y1": 13
         },
         {
          "layer": "below",
          "line": {
           "color": "crimson",
           "width": 3
          },
          "type": "line",
          "x0": 8,
          "x1": 2,
          "y0": 14,
          "y1": 14
         },
         {
          "layer": "below",
          "line": {
           "color": "crimson",
           "width": 3
          },
          "type": "line",
          "x0": 34,
          "x1": 4,
          "y0": 15,
          "y1": 15
         },
         {
          "layer": "below",
          "line": {
           "color": "crimson",
           "width": 3
          },
          "type": "line",
          "x0": 12,
          "x1": 13,
          "y0": 16,
          "y1": 16
         },
         {
          "layer": "below",
          "line": {
           "color": "crimson",
           "width": 3
          },
          "type": "line",
          "x0": 8,
          "x1": 1,
          "y0": 17,
          "y1": 17
         },
         {
          "layer": "below",
          "line": {
           "color": "crimson",
           "width": 3
          },
          "type": "line",
          "x0": 6,
          "x1": 3,
          "y0": 18,
          "y1": 18
         },
         {
          "layer": "below",
          "line": {
           "color": "crimson",
           "width": 3
          },
          "type": "line",
          "x0": 19,
          "x1": 7,
          "y0": 19,
          "y1": 19
         },
         {
          "layer": "below",
          "line": {
           "color": "crimson",
           "width": 3
          },
          "type": "line",
          "x0": 9,
          "x1": 0,
          "y0": 20,
          "y1": 20
         },
         {
          "layer": "below",
          "line": {
           "color": "crimson",
           "width": 3
          },
          "type": "line",
          "x0": 1,
          "x1": 0,
          "y0": 21,
          "y1": 21
         },
         {
          "layer": "below",
          "line": {
           "color": "crimson",
           "width": 3
          },
          "type": "line",
          "x0": 9,
          "x1": 0,
          "y0": 22,
          "y1": 22
         },
         {
          "layer": "below",
          "line": {
           "color": "crimson",
           "width": 3
          },
          "type": "line",
          "x0": 4,
          "x1": 4,
          "y0": 23,
          "y1": 23
         },
         {
          "layer": "below",
          "line": {
           "color": "crimson",
           "width": 3
          },
          "type": "line",
          "x0": 11,
          "x1": 1,
          "y0": 24,
          "y1": 24
         },
         {
          "layer": "below",
          "line": {
           "color": "crimson",
           "width": 3
          },
          "type": "line",
          "x0": 3,
          "x1": 5,
          "y0": 25,
          "y1": 25
         },
         {
          "layer": "below",
          "line": {
           "color": "crimson",
           "width": 3
          },
          "type": "line",
          "x0": 47,
          "x1": 8,
          "y0": 26,
          "y1": 26
         },
         {
          "layer": "below",
          "line": {
           "color": "crimson",
           "width": 3
          },
          "type": "line",
          "x0": 7,
          "x1": 1,
          "y0": 27,
          "y1": 27
         },
         {
          "layer": "below",
          "line": {
           "color": "crimson",
           "width": 3
          },
          "type": "line",
          "x0": 7,
          "x1": 0,
          "y0": 28,
          "y1": 28
         },
         {
          "layer": "below",
          "line": {
           "color": "crimson",
           "width": 3
          },
          "type": "line",
          "x0": 15,
          "x1": 0,
          "y0": 29,
          "y1": 29
         },
         {
          "layer": "below",
          "line": {
           "color": "crimson",
           "width": 3
          },
          "type": "line",
          "x0": 21,
          "x1": 2,
          "y0": 30,
          "y1": 30
         },
         {
          "layer": "below",
          "line": {
           "color": "crimson",
           "width": 3
          },
          "type": "line",
          "x0": 12,
          "x1": 2,
          "y0": 31,
          "y1": 31
         },
         {
          "layer": "below",
          "line": {
           "color": "crimson",
           "width": 3
          },
          "type": "line",
          "x0": 83,
          "x1": 15,
          "y0": 32,
          "y1": 32
         },
         {
          "layer": "below",
          "line": {
           "color": "crimson",
           "width": 3
          },
          "type": "line",
          "x0": 42,
          "x1": 25,
          "y0": 33,
          "y1": 33
         },
         {
          "layer": "below",
          "line": {
           "color": "crimson",
           "width": 3
          },
          "type": "line",
          "x0": 11,
          "x1": 1,
          "y0": 34,
          "y1": 34
         },
         {
          "layer": "below",
          "line": {
           "color": "crimson",
           "width": 3
          },
          "type": "line",
          "x0": 56,
          "x1": 41,
          "y0": 35,
          "y1": 35
         }
        ],
        "template": {
         "data": {
          "bar": [
           {
            "error_x": {
             "color": "#2a3f5f"
            },
            "error_y": {
             "color": "#2a3f5f"
            },
            "marker": {
             "line": {
              "color": "#E5ECF6",
              "width": 0.5
             },
             "pattern": {
              "fillmode": "overlay",
              "size": 10,
              "solidity": 0.2
             }
            },
            "type": "bar"
           }
          ],
          "barpolar": [
           {
            "marker": {
             "line": {
              "color": "#E5ECF6",
              "width": 0.5
             },
             "pattern": {
              "fillmode": "overlay",
              "size": 10,
              "solidity": 0.2
             }
            },
            "type": "barpolar"
           }
          ],
          "carpet": [
           {
            "aaxis": {
             "endlinecolor": "#2a3f5f",
             "gridcolor": "white",
             "linecolor": "white",
             "minorgridcolor": "white",
             "startlinecolor": "#2a3f5f"
            },
            "baxis": {
             "endlinecolor": "#2a3f5f",
             "gridcolor": "white",
             "linecolor": "white",
             "minorgridcolor": "white",
             "startlinecolor": "#2a3f5f"
            },
            "type": "carpet"
           }
          ],
          "choropleth": [
           {
            "colorbar": {
             "outlinewidth": 0,
             "ticks": ""
            },
            "type": "choropleth"
           }
          ],
          "contour": [
           {
            "colorbar": {
             "outlinewidth": 0,
             "ticks": ""
            },
            "colorscale": [
             [
              0,
              "#0d0887"
             ],
             [
              0.1111111111111111,
              "#46039f"
             ],
             [
              0.2222222222222222,
              "#7201a8"
             ],
             [
              0.3333333333333333,
              "#9c179e"
             ],
             [
              0.4444444444444444,
              "#bd3786"
             ],
             [
              0.5555555555555556,
              "#d8576b"
             ],
             [
              0.6666666666666666,
              "#ed7953"
             ],
             [
              0.7777777777777778,
              "#fb9f3a"
             ],
             [
              0.8888888888888888,
              "#fdca26"
             ],
             [
              1,
              "#f0f921"
             ]
            ],
            "type": "contour"
           }
          ],
          "contourcarpet": [
           {
            "colorbar": {
             "outlinewidth": 0,
             "ticks": ""
            },
            "type": "contourcarpet"
           }
          ],
          "heatmap": [
           {
            "colorbar": {
             "outlinewidth": 0,
             "ticks": ""
            },
            "colorscale": [
             [
              0,
              "#0d0887"
             ],
             [
              0.1111111111111111,
              "#46039f"
             ],
             [
              0.2222222222222222,
              "#7201a8"
             ],
             [
              0.3333333333333333,
              "#9c179e"
             ],
             [
              0.4444444444444444,
              "#bd3786"
             ],
             [
              0.5555555555555556,
              "#d8576b"
             ],
             [
              0.6666666666666666,
              "#ed7953"
             ],
             [
              0.7777777777777778,
              "#fb9f3a"
             ],
             [
              0.8888888888888888,
              "#fdca26"
             ],
             [
              1,
              "#f0f921"
             ]
            ],
            "type": "heatmap"
           }
          ],
          "heatmapgl": [
           {
            "colorbar": {
             "outlinewidth": 0,
             "ticks": ""
            },
            "colorscale": [
             [
              0,
              "#0d0887"
             ],
             [
              0.1111111111111111,
              "#46039f"
             ],
             [
              0.2222222222222222,
              "#7201a8"
             ],
             [
              0.3333333333333333,
              "#9c179e"
             ],
             [
              0.4444444444444444,
              "#bd3786"
             ],
             [
              0.5555555555555556,
              "#d8576b"
             ],
             [
              0.6666666666666666,
              "#ed7953"
             ],
             [
              0.7777777777777778,
              "#fb9f3a"
             ],
             [
              0.8888888888888888,
              "#fdca26"
             ],
             [
              1,
              "#f0f921"
             ]
            ],
            "type": "heatmapgl"
           }
          ],
          "histogram": [
           {
            "marker": {
             "pattern": {
              "fillmode": "overlay",
              "size": 10,
              "solidity": 0.2
             }
            },
            "type": "histogram"
           }
          ],
          "histogram2d": [
           {
            "colorbar": {
             "outlinewidth": 0,
             "ticks": ""
            },
            "colorscale": [
             [
              0,
              "#0d0887"
             ],
             [
              0.1111111111111111,
              "#46039f"
             ],
             [
              0.2222222222222222,
              "#7201a8"
             ],
             [
              0.3333333333333333,
              "#9c179e"
             ],
             [
              0.4444444444444444,
              "#bd3786"
             ],
             [
              0.5555555555555556,
              "#d8576b"
             ],
             [
              0.6666666666666666,
              "#ed7953"
             ],
             [
              0.7777777777777778,
              "#fb9f3a"
             ],
             [
              0.8888888888888888,
              "#fdca26"
             ],
             [
              1,
              "#f0f921"
             ]
            ],
            "type": "histogram2d"
           }
          ],
          "histogram2dcontour": [
           {
            "colorbar": {
             "outlinewidth": 0,
             "ticks": ""
            },
            "colorscale": [
             [
              0,
              "#0d0887"
             ],
             [
              0.1111111111111111,
              "#46039f"
             ],
             [
              0.2222222222222222,
              "#7201a8"
             ],
             [
              0.3333333333333333,
              "#9c179e"
             ],
             [
              0.4444444444444444,
              "#bd3786"
             ],
             [
              0.5555555555555556,
              "#d8576b"
             ],
             [
              0.6666666666666666,
              "#ed7953"
             ],
             [
              0.7777777777777778,
              "#fb9f3a"
             ],
             [
              0.8888888888888888,
              "#fdca26"
             ],
             [
              1,
              "#f0f921"
             ]
            ],
            "type": "histogram2dcontour"
           }
          ],
          "mesh3d": [
           {
            "colorbar": {
             "outlinewidth": 0,
             "ticks": ""
            },
            "type": "mesh3d"
           }
          ],
          "parcoords": [
           {
            "line": {
             "colorbar": {
              "outlinewidth": 0,
              "ticks": ""
             }
            },
            "type": "parcoords"
           }
          ],
          "pie": [
           {
            "automargin": true,
            "type": "pie"
           }
          ],
          "scatter": [
           {
            "fillpattern": {
             "fillmode": "overlay",
             "size": 10,
             "solidity": 0.2
            },
            "type": "scatter"
           }
          ],
          "scatter3d": [
           {
            "line": {
             "colorbar": {
              "outlinewidth": 0,
              "ticks": ""
             }
            },
            "marker": {
             "colorbar": {
              "outlinewidth": 0,
              "ticks": ""
             }
            },
            "type": "scatter3d"
           }
          ],
          "scattercarpet": [
           {
            "marker": {
             "colorbar": {
              "outlinewidth": 0,
              "ticks": ""
             }
            },
            "type": "scattercarpet"
           }
          ],
          "scattergeo": [
           {
            "marker": {
             "colorbar": {
              "outlinewidth": 0,
              "ticks": ""
             }
            },
            "type": "scattergeo"
           }
          ],
          "scattergl": [
           {
            "marker": {
             "colorbar": {
              "outlinewidth": 0,
              "ticks": ""
             }
            },
            "type": "scattergl"
           }
          ],
          "scattermapbox": [
           {
            "marker": {
             "colorbar": {
              "outlinewidth": 0,
              "ticks": ""
             }
            },
            "type": "scattermapbox"
           }
          ],
          "scatterpolar": [
           {
            "marker": {
             "colorbar": {
              "outlinewidth": 0,
              "ticks": ""
             }
            },
            "type": "scatterpolar"
           }
          ],
          "scatterpolargl": [
           {
            "marker": {
             "colorbar": {
              "outlinewidth": 0,
              "ticks": ""
             }
            },
            "type": "scatterpolargl"
           }
          ],
          "scatterternary": [
           {
            "marker": {
             "colorbar": {
              "outlinewidth": 0,
              "ticks": ""
             }
            },
            "type": "scatterternary"
           }
          ],
          "surface": [
           {
            "colorbar": {
             "outlinewidth": 0,
             "ticks": ""
            },
            "colorscale": [
             [
              0,
              "#0d0887"
             ],
             [
              0.1111111111111111,
              "#46039f"
             ],
             [
              0.2222222222222222,
              "#7201a8"
             ],
             [
              0.3333333333333333,
              "#9c179e"
             ],
             [
              0.4444444444444444,
              "#bd3786"
             ],
             [
              0.5555555555555556,
              "#d8576b"
             ],
             [
              0.6666666666666666,
              "#ed7953"
             ],
             [
              0.7777777777777778,
              "#fb9f3a"
             ],
             [
              0.8888888888888888,
              "#fdca26"
             ],
             [
              1,
              "#f0f921"
             ]
            ],
            "type": "surface"
           }
          ],
          "table": [
           {
            "cells": {
             "fill": {
              "color": "#EBF0F8"
             },
             "line": {
              "color": "white"
             }
            },
            "header": {
             "fill": {
              "color": "#C8D4E3"
             },
             "line": {
              "color": "white"
             }
            },
            "type": "table"
           }
          ]
         },
         "layout": {
          "annotationdefaults": {
           "arrowcolor": "#2a3f5f",
           "arrowhead": 0,
           "arrowwidth": 1
          },
          "autotypenumbers": "strict",
          "coloraxis": {
           "colorbar": {
            "outlinewidth": 0,
            "ticks": ""
           }
          },
          "colorscale": {
           "diverging": [
            [
             0,
             "#8e0152"
            ],
            [
             0.1,
             "#c51b7d"
            ],
            [
             0.2,
             "#de77ae"
            ],
            [
             0.3,
             "#f1b6da"
            ],
            [
             0.4,
             "#fde0ef"
            ],
            [
             0.5,
             "#f7f7f7"
            ],
            [
             0.6,
             "#e6f5d0"
            ],
            [
             0.7,
             "#b8e186"
            ],
            [
             0.8,
             "#7fbc41"
            ],
            [
             0.9,
             "#4d9221"
            ],
            [
             1,
             "#276419"
            ]
           ],
           "sequential": [
            [
             0,
             "#0d0887"
            ],
            [
             0.1111111111111111,
             "#46039f"
            ],
            [
             0.2222222222222222,
             "#7201a8"
            ],
            [
             0.3333333333333333,
             "#9c179e"
            ],
            [
             0.4444444444444444,
             "#bd3786"
            ],
            [
             0.5555555555555556,
             "#d8576b"
            ],
            [
             0.6666666666666666,
             "#ed7953"
            ],
            [
             0.7777777777777778,
             "#fb9f3a"
            ],
            [
             0.8888888888888888,
             "#fdca26"
            ],
            [
             1,
             "#f0f921"
            ]
           ],
           "sequentialminus": [
            [
             0,
             "#0d0887"
            ],
            [
             0.1111111111111111,
             "#46039f"
            ],
            [
             0.2222222222222222,
             "#7201a8"
            ],
            [
             0.3333333333333333,
             "#9c179e"
            ],
            [
             0.4444444444444444,
             "#bd3786"
            ],
            [
             0.5555555555555556,
             "#d8576b"
            ],
            [
             0.6666666666666666,
             "#ed7953"
            ],
            [
             0.7777777777777778,
             "#fb9f3a"
            ],
            [
             0.8888888888888888,
             "#fdca26"
            ],
            [
             1,
             "#f0f921"
            ]
           ]
          },
          "colorway": [
           "#636efa",
           "#EF553B",
           "#00cc96",
           "#ab63fa",
           "#FFA15A",
           "#19d3f3",
           "#FF6692",
           "#B6E880",
           "#FF97FF",
           "#FECB52"
          ],
          "font": {
           "color": "#2a3f5f"
          },
          "geo": {
           "bgcolor": "white",
           "lakecolor": "white",
           "landcolor": "#E5ECF6",
           "showlakes": true,
           "showland": true,
           "subunitcolor": "white"
          },
          "hoverlabel": {
           "align": "left"
          },
          "hovermode": "closest",
          "mapbox": {
           "style": "light"
          },
          "paper_bgcolor": "white",
          "plot_bgcolor": "#E5ECF6",
          "polar": {
           "angularaxis": {
            "gridcolor": "white",
            "linecolor": "white",
            "ticks": ""
           },
           "bgcolor": "#E5ECF6",
           "radialaxis": {
            "gridcolor": "white",
            "linecolor": "white",
            "ticks": ""
           }
          },
          "scene": {
           "xaxis": {
            "backgroundcolor": "#E5ECF6",
            "gridcolor": "white",
            "gridwidth": 2,
            "linecolor": "white",
            "showbackground": true,
            "ticks": "",
            "zerolinecolor": "white"
           },
           "yaxis": {
            "backgroundcolor": "#E5ECF6",
            "gridcolor": "white",
            "gridwidth": 2,
            "linecolor": "white",
            "showbackground": true,
            "ticks": "",
            "zerolinecolor": "white"
           },
           "zaxis": {
            "backgroundcolor": "#E5ECF6",
            "gridcolor": "white",
            "gridwidth": 2,
            "linecolor": "white",
            "showbackground": true,
            "ticks": "",
            "zerolinecolor": "white"
           }
          },
          "shapedefaults": {
           "line": {
            "color": "#2a3f5f"
           }
          },
          "ternary": {
           "aaxis": {
            "gridcolor": "white",
            "linecolor": "white",
            "ticks": ""
           },
           "baxis": {
            "gridcolor": "white",
            "linecolor": "white",
            "ticks": ""
           },
           "bgcolor": "#E5ECF6",
           "caxis": {
            "gridcolor": "white",
            "linecolor": "white",
            "ticks": ""
           }
          },
          "title": {
           "x": 0.05
          },
          "xaxis": {
           "automargin": true,
           "gridcolor": "white",
           "linecolor": "white",
           "ticks": "",
           "title": {
            "standoff": 15
           },
           "zerolinecolor": "white",
           "zerolinewidth": 2
          },
          "yaxis": {
           "automargin": true,
           "gridcolor": "white",
           "linecolor": "white",
           "ticks": "",
           "title": {
            "standoff": 15
           },
           "zerolinecolor": "white",
           "zerolinewidth": 2
          }
         }
        },
        "title": {
         "text": "Who make decisions?"
        },
        "updatemenus": [
         {
          "buttons": [
           {
            "args": [
             {
              "visible": [
               true,
               true,
               false,
               false,
               false,
               false
              ]
             },
             {
              "shapes": [
               {
                "layer": "below",
                "line": {
                 "color": "crimson",
                 "width": 3
                },
                "type": "line",
                "x0": 6,
                "x1": 0,
                "y0": 0,
                "y1": 0
               },
               {
                "layer": "below",
                "line": {
                 "color": "crimson",
                 "width": 3
                },
                "type": "line",
                "x0": 5,
                "x1": 0,
                "y0": 1,
                "y1": 1
               },
               {
                "layer": "below",
                "line": {
                 "color": "crimson",
                 "width": 3
                },
                "type": "line",
                "x0": 45,
                "x1": 26,
                "y0": 2,
                "y1": 2
               },
               {
                "layer": "below",
                "line": {
                 "color": "crimson",
                 "width": 3
                },
                "type": "line",
                "x0": 13,
                "x1": 4,
                "y0": 3,
                "y1": 3
               },
               {
                "layer": "below",
                "line": {
                 "color": "crimson",
                 "width": 3
                },
                "type": "line",
                "x0": 13,
                "x1": 15,
                "y0": 4,
                "y1": 4
               },
               {
                "layer": "below",
                "line": {
                 "color": "crimson",
                 "width": 3
                },
                "type": "line",
                "x0": 16,
                "x1": 2,
                "y0": 5,
                "y1": 5
               },
               {
                "layer": "below",
                "line": {
                 "color": "crimson",
                 "width": 3
                },
                "type": "line",
                "x0": 5,
                "x1": 0,
                "y0": 6,
                "y1": 6
               },
               {
                "layer": "below",
                "line": {
                 "color": "crimson",
                 "width": 3
                },
                "type": "line",
                "x0": 11,
                "x1": 7,
                "y0": 7,
                "y1": 7
               },
               {
                "layer": "below",
                "line": {
                 "color": "crimson",
                 "width": 3
                },
                "type": "line",
                "x0": 5,
                "x1": 2,
                "y0": 8,
                "y1": 8
               },
               {
                "layer": "below",
                "line": {
                 "color": "crimson",
                 "width": 3
                },
                "type": "line",
                "x0": 3,
                "x1": 5,
                "y0": 9,
                "y1": 9
               },
               {
                "layer": "below",
                "line": {
                 "color": "crimson",
                 "width": 3
                },
                "type": "line",
                "x0": 11,
                "x1": 2,
                "y0": 10,
                "y1": 10
               },
               {
                "layer": "below",
                "line": {
                 "color": "crimson",
                 "width": 3
                },
                "type": "line",
                "x0": 28,
                "x1": 14,
                "y0": 11,
                "y1": 11
               },
               {
                "layer": "below",
                "line": {
                 "color": "crimson",
                 "width": 3
                },
                "type": "line",
                "x0": 36,
                "x1": 5,
                "y0": 12,
                "y1": 12
               },
               {
                "layer": "below",
                "line": {
                 "color": "crimson",
                 "width": 3
                },
                "type": "line",
                "x0": 9,
                "x1": 3,
                "y0": 13,
                "y1": 13
               },
               {
                "layer": "below",
                "line": {
                 "color": "crimson",
                 "width": 3
                },
                "type": "line",
                "x0": 8,
                "x1": 2,
                "y0": 14,
                "y1": 14
               },
               {
                "layer": "below",
                "line": {
                 "color": "crimson",
                 "width": 3
                },
                "type": "line",
                "x0": 34,
                "x1": 4,
                "y0": 15,
                "y1": 15
               },
               {
                "layer": "below",
                "line": {
                 "color": "crimson",
                 "width": 3
                },
                "type": "line",
                "x0": 12,
                "x1": 13,
                "y0": 16,
                "y1": 16
               },
               {
                "layer": "below",
                "line": {
                 "color": "crimson",
                 "width": 3
                },
                "type": "line",
                "x0": 8,
                "x1": 1,
                "y0": 17,
                "y1": 17
               },
               {
                "layer": "below",
                "line": {
                 "color": "crimson",
                 "width": 3
                },
                "type": "line",
                "x0": 6,
                "x1": 3,
                "y0": 18,
                "y1": 18
               },
               {
                "layer": "below",
                "line": {
                 "color": "crimson",
                 "width": 3
                },
                "type": "line",
                "x0": 19,
                "x1": 7,
                "y0": 19,
                "y1": 19
               },
               {
                "layer": "below",
                "line": {
                 "color": "crimson",
                 "width": 3
                },
                "type": "line",
                "x0": 9,
                "x1": 0,
                "y0": 20,
                "y1": 20
               },
               {
                "layer": "below",
                "line": {
                 "color": "crimson",
                 "width": 3
                },
                "type": "line",
                "x0": 1,
                "x1": 0,
                "y0": 21,
                "y1": 21
               },
               {
                "layer": "below",
                "line": {
                 "color": "crimson",
                 "width": 3
                },
                "type": "line",
                "x0": 9,
                "x1": 0,
                "y0": 22,
                "y1": 22
               },
               {
                "layer": "below",
                "line": {
                 "color": "crimson",
                 "width": 3
                },
                "type": "line",
                "x0": 4,
                "x1": 4,
                "y0": 23,
                "y1": 23
               },
               {
                "layer": "below",
                "line": {
                 "color": "crimson",
                 "width": 3
                },
                "type": "line",
                "x0": 11,
                "x1": 1,
                "y0": 24,
                "y1": 24
               },
               {
                "layer": "below",
                "line": {
                 "color": "crimson",
                 "width": 3
                },
                "type": "line",
                "x0": 3,
                "x1": 5,
                "y0": 25,
                "y1": 25
               },
               {
                "layer": "below",
                "line": {
                 "color": "crimson",
                 "width": 3
                },
                "type": "line",
                "x0": 47,
                "x1": 8,
                "y0": 26,
                "y1": 26
               },
               {
                "layer": "below",
                "line": {
                 "color": "crimson",
                 "width": 3
                },
                "type": "line",
                "x0": 7,
                "x1": 1,
                "y0": 27,
                "y1": 27
               },
               {
                "layer": "below",
                "line": {
                 "color": "crimson",
                 "width": 3
                },
                "type": "line",
                "x0": 7,
                "x1": 0,
                "y0": 28,
                "y1": 28
               },
               {
                "layer": "below",
                "line": {
                 "color": "crimson",
                 "width": 3
                },
                "type": "line",
                "x0": 15,
                "x1": 0,
                "y0": 29,
                "y1": 29
               },
               {
                "layer": "below",
                "line": {
                 "color": "crimson",
                 "width": 3
                },
                "type": "line",
                "x0": 21,
                "x1": 2,
                "y0": 30,
                "y1": 30
               },
               {
                "layer": "below",
                "line": {
                 "color": "crimson",
                 "width": 3
                },
                "type": "line",
                "x0": 12,
                "x1": 2,
                "y0": 31,
                "y1": 31
               },
               {
                "layer": "below",
                "line": {
                 "color": "crimson",
                 "width": 3
                },
                "type": "line",
                "x0": 83,
                "x1": 15,
                "y0": 32,
                "y1": 32
               },
               {
                "layer": "below",
                "line": {
                 "color": "crimson",
                 "width": 3
                },
                "type": "line",
                "x0": 42,
                "x1": 25,
                "y0": 33,
                "y1": 33
               },
               {
                "layer": "below",
                "line": {
                 "color": "crimson",
                 "width": 3
                },
                "type": "line",
                "x0": 11,
                "x1": 1,
                "y0": 34,
                "y1": 34
               },
               {
                "layer": "below",
                "line": {
                 "color": "crimson",
                 "width": 3
                },
                "type": "line",
                "x0": 56,
                "x1": 41,
                "y0": 35,
                "y1": 35
               }
              ]
             }
            ],
            "label": "Academics",
            "method": "update"
           },
           {
            "args": [
             {
              "visible": [
               false,
               false,
               true,
               true,
               false,
               false
              ]
             },
             {
              "shapes": [
               {
                "layer": "below",
                "line": {
                 "color": "crimson",
                 "width": 3
                },
                "type": "line",
                "x0": 7,
                "x1": 1,
                "y0": 0,
                "y1": 0
               },
               {
                "layer": "below",
                "line": {
                 "color": "crimson",
                 "width": 3
                },
                "type": "line",
                "x0": 36,
                "x1": 25,
                "y0": 1,
                "y1": 1
               },
               {
                "layer": "below",
                "line": {
                 "color": "crimson",
                 "width": 3
                },
                "type": "line",
                "x0": 19,
                "x1": 11,
                "y0": 2,
                "y1": 2
               },
               {
                "layer": "below",
                "line": {
                 "color": "crimson",
                 "width": 3
                },
                "type": "line",
                "x0": 28,
                "x1": 25,
                "y0": 3,
                "y1": 3
               },
               {
                "layer": "below",
                "line": {
                 "color": "crimson",
                 "width": 3
                },
                "type": "line",
                "x0": 23,
                "x1": 72,
                "y0": 4,
                "y1": 4
               },
               {
                "layer": "below",
                "line": {
                 "color": "crimson",
                 "width": 3
                },
                "type": "line",
                "x0": 25,
                "x1": 12,
                "y0": 5,
                "y1": 5
               },
               {
                "layer": "below",
                "line": {
                 "color": "crimson",
                 "width": 3
                },
                "type": "line",
                "x0": 10,
                "x1": 4,
                "y0": 6,
                "y1": 6
               },
               {
                "layer": "below",
                "line": {
                 "color": "crimson",
                 "width": 3
                },
                "type": "line",
                "x0": 61,
                "x1": 10,
                "y0": 7,
                "y1": 7
               },
               {
                "layer": "below",
                "line": {
                 "color": "crimson",
                 "width": 3
                },
                "type": "line",
                "x0": 15,
                "x1": 4,
                "y0": 8,
                "y1": 8
               },
               {
                "layer": "below",
                "line": {
                 "color": "crimson",
                 "width": 3
                },
                "type": "line",
                "x0": 24,
                "x1": 12,
                "y0": 9,
                "y1": 9
               },
               {
                "layer": "below",
                "line": {
                 "color": "crimson",
                 "width": 3
                },
                "type": "line",
                "x0": 15,
                "x1": 5,
                "y0": 10,
                "y1": 10
               },
               {
                "layer": "below",
                "line": {
                 "color": "crimson",
                 "width": 3
                },
                "type": "line",
                "x0": 16,
                "x1": 6,
                "y0": 11,
                "y1": 11
               },
               {
                "layer": "below",
                "line": {
                 "color": "crimson",
                 "width": 3
                },
                "type": "line",
                "x0": 60,
                "x1": 65,
                "y0": 12,
                "y1": 12
               },
               {
                "layer": "below",
                "line": {
                 "color": "crimson",
                 "width": 3
                },
                "type": "line",
                "x0": 96,
                "x1": 57,
                "y0": 13,
                "y1": 13
               },
               {
                "layer": "below",
                "line": {
                 "color": "crimson",
                 "width": 3
                },
                "type": "line",
                "x0": 53,
                "x1": 27,
                "y0": 14,
                "y1": 14
               },
               {
                "layer": "below",
                "line": {
                 "color": "crimson",
                 "width": 3
                },
                "type": "line",
                "x0": 35,
                "x1": 55,
                "y0": 15,
                "y1": 15
               },
               {
                "layer": "below",
                "line": {
                 "color": "crimson",
                 "width": 3
                },
                "type": "line",
                "x0": 6,
                "x1": 2,
                "y0": 16,
                "y1": 16
               },
               {
                "layer": "below",
                "line": {
                 "color": "crimson",
                 "width": 3
                },
                "type": "line",
                "x0": 7,
                "x1": 2,
                "y0": 17,
                "y1": 17
               },
               {
                "layer": "below",
                "line": {
                 "color": "crimson",
                 "width": 3
                },
                "type": "line",
                "x0": 234,
                "x1": 127,
                "y0": 18,
                "y1": 18
               },
               {
                "layer": "below",
                "line": {
                 "color": "crimson",
                 "width": 3
                },
                "type": "line",
                "x0": 12,
                "x1": 4,
                "y0": 19,
                "y1": 19
               },
               {
                "layer": "below",
                "line": {
                 "color": "crimson",
                 "width": 3
                },
                "type": "line",
                "x0": 12,
                "x1": 21,
                "y0": 20,
                "y1": 20
               },
               {
                "layer": "below",
                "line": {
                 "color": "crimson",
                 "width": 3
                },
                "type": "line",
                "x0": 6,
                "x1": 1,
                "y0": 21,
                "y1": 21
               },
               {
                "layer": "below",
                "line": {
                 "color": "crimson",
                 "width": 3
                },
                "type": "line",
                "x0": 18,
                "x1": 12,
                "y0": 22,
                "y1": 22
               },
               {
                "layer": "below",
                "line": {
                 "color": "crimson",
                 "width": 3
                },
                "type": "line",
                "x0": 3,
                "x1": 2,
                "y0": 23,
                "y1": 23
               },
               {
                "layer": "below",
                "line": {
                 "color": "crimson",
                 "width": 3
                },
                "type": "line",
                "x0": 9,
                "x1": 2,
                "y0": 24,
                "y1": 24
               },
               {
                "layer": "below",
                "line": {
                 "color": "crimson",
                 "width": 3
                },
                "type": "line",
                "x0": 4,
                "x1": 11,
                "y0": 25,
                "y1": 25
               },
               {
                "layer": "below",
                "line": {
                 "color": "crimson",
                 "width": 3
                },
                "type": "line",
                "x0": 21,
                "x1": 15,
                "y0": 26,
                "y1": 26
               },
               {
                "layer": "below",
                "line": {
                 "color": "crimson",
                 "width": 3
                },
                "type": "line",
                "x0": 10,
                "x1": 11,
                "y0": 27,
                "y1": 27
               },
               {
                "layer": "below",
                "line": {
                 "color": "crimson",
                 "width": 3
                },
                "type": "line",
                "x0": 12,
                "x1": 9,
                "y0": 28,
                "y1": 28
               },
               {
                "layer": "below",
                "line": {
                 "color": "crimson",
                 "width": 3
                },
                "type": "line",
                "x0": 75,
                "x1": 22,
                "y0": 29,
                "y1": 29
               },
               {
                "layer": "below",
                "line": {
                 "color": "crimson",
                 "width": 3
                },
                "type": "line",
                "x0": 39,
                "x1": 19,
                "y0": 30,
                "y1": 30
               },
               {
                "layer": "below",
                "line": {
                 "color": "crimson",
                 "width": 3
                },
                "type": "line",
                "x0": 25,
                "x1": 84,
                "y0": 31,
                "y1": 31
               },
               {
                "layer": "below",
                "line": {
                 "color": "crimson",
                 "width": 3
                },
                "type": "line",
                "x0": 15,
                "x1": 27,
                "y0": 32,
                "y1": 32
               },
               {
                "layer": "below",
                "line": {
                 "color": "crimson",
                 "width": 3
                },
                "type": "line",
                "x0": 43,
                "x1": 43,
                "y0": 33,
                "y1": 33
               },
               {
                "layer": "below",
                "line": {
                 "color": "crimson",
                 "width": 3
                },
                "type": "line",
                "x0": 18,
                "x1": 12,
                "y0": 34,
                "y1": 34
               },
               {
                "layer": "below",
                "line": {
                 "color": "crimson",
                 "width": 3
                },
                "type": "line",
                "x0": 60,
                "x1": 14,
                "y0": 35,
                "y1": 35
               },
               {
                "layer": "below",
                "line": {
                 "color": "crimson",
                 "width": 3
                },
                "type": "line",
                "x0": 12,
                "x1": 5,
                "y0": 36,
                "y1": 36
               },
               {
                "layer": "below",
                "line": {
                 "color": "crimson",
                 "width": 3
                },
                "type": "line",
                "x0": 331,
                "x1": 47,
                "y0": 37,
                "y1": 37
               },
               {
                "layer": "below",
                "line": {
                 "color": "crimson",
                 "width": 3
                },
                "type": "line",
                "x0": 11,
                "x1": 2,
                "y0": 38,
                "y1": 38
               }
              ]
             }
            ],
            "label": "Judiciary",
            "method": "update"
           },
           {
            "args": [
             {
              "visible": [
               false,
               false,
               false,
               false,
               true,
               true
              ]
             },
             {
              "shapes": [
               {
                "layer": "below",
                "line": {
                 "color": "crimson",
                 "width": 3
                },
                "type": "line",
                "x0": 72,
                "x1": 45,
                "y0": 0,
                "y1": 0
               },
               {
                "layer": "below",
                "line": {
                 "color": "crimson",
                 "width": 3
                },
                "type": "line",
                "x0": 162,
                "x1": 94,
                "y0": 1,
                "y1": 1
               },
               {
                "layer": "below",
                "line": {
                 "color": "crimson",
                 "width": 3
                },
                "type": "line",
                "x0": 1772,
                "x1": 673,
                "y0": 2,
                "y1": 2
               },
               {
                "layer": "below",
                "line": {
                 "color": "crimson",
                 "width": 3
                },
                "type": "line",
                "x0": 16349,
                "x1": 6803,
                "y0": 3,
                "y1": 3
               },
               {
                "layer": "below",
                "line": {
                 "color": "crimson",
                 "width": 3
                },
                "type": "line",
                "x0": 4710,
                "x1": 1770,
                "y0": 4,
                "y1": 4
               },
               {
                "layer": "below",
                "line": {
                 "color": "crimson",
                 "width": 3
                },
                "type": "line",
                "x0": 1675,
                "x1": 510,
                "y0": 5,
                "y1": 5
               },
               {
                "layer": "below",
                "line": {
                 "color": "crimson",
                 "width": 3
                },
                "type": "line",
                "x0": 2516,
                "x1": 1060,
                "y0": 6,
                "y1": 6
               },
               {
                "layer": "below",
                "line": {
                 "color": "crimson",
                 "width": 3
                },
                "type": "line",
                "x0": 1358,
                "x1": 338,
                "y0": 7,
                "y1": 7
               },
               {
                "layer": "below",
                "line": {
                 "color": "crimson",
                 "width": 3
                },
                "type": "line",
                "x0": 6421,
                "x1": 2600,
                "y0": 8,
                "y1": 8
               },
               {
                "layer": "below",
                "line": {
                 "color": "crimson",
                 "width": 3
                },
                "type": "line",
                "x0": 11234,
                "x1": 4751,
                "y0": 9,
                "y1": 9
               },
               {
                "layer": "below",
                "line": {
                 "color": "crimson",
                 "width": 3
                },
                "type": "line",
                "x0": 2740,
                "x1": 1235,
                "y0": 10,
                "y1": 10
               },
               {
                "layer": "below",
                "line": {
                 "color": "crimson",
                 "width": 3
                },
                "type": "line",
                "x0": 134,
                "x1": 38,
                "y0": 11,
                "y1": 11
               },
               {
                "layer": "below",
                "line": {
                 "color": "crimson",
                 "width": 3
                },
                "type": "line",
                "x0": 460,
                "x1": 170,
                "y0": 12,
                "y1": 12
               },
               {
                "layer": "below",
                "line": {
                 "color": "crimson",
                 "width": 3
                },
                "type": "line",
                "x0": 283,
                "x1": 100,
                "y0": 13,
                "y1": 13
               }
              ]
             }
            ],
            "label": "Business",
            "method": "update"
           }
          ],
          "direction": "down",
          "pad": {
           "r": 10,
           "t": 10
          },
          "showactive": true,
          "x": 0,
          "xanchor": "left",
          "y": 1.15,
          "yanchor": "top"
         }
        ],
        "xaxis": {
         "title": {
          "text": "Headcount"
         }
        },
        "yaxis": {
         "dtick": 1
        }
       }
      },
      "text/html": [
       "<div>                            <div id=\"6ba1b129-7984-41b3-8288-2f9092955d7e\" class=\"plotly-graph-div\" style=\"height:800px; width:100%;\"></div>            <script type=\"text/javascript\">                require([\"plotly\"], function(Plotly) {                    window.PLOTLYENV=window.PLOTLYENV || {};                                    if (document.getElementById(\"6ba1b129-7984-41b3-8288-2f9092955d7e\")) {                    Plotly.newPlot(                        \"6ba1b129-7984-41b3-8288-2f9092955d7e\",                        [{\"marker\":{\"color\":\"blue\",\"size\":10},\"mode\":\"markers\",\"name\":\"Men\",\"visible\":true,\"x\":[6.0,5.0,45.0,13.0,13.0,16.0,5.0,11.0,5.0,3.0,11.0,28.0,36.0,9.0,8.0,34.0,12.0,8.0,6.0,19.0,9.0,1.0,9.0,4.0,11.0,3.0,47.0,7.0,7.0,15.0,21.0,12.0,83.0,42.0,11.0,56.0],\"y\":[\"Albania\",\"Austria\",\"Belgium\",\"Bosnia and Herzegovina\",\"Bulgaria\",\"Croatia\",\"Cyprus\",\"Czech Republic\",\"Denmark\",\"EEA countries (non-EU)\",\"Estonia\",\"Finland\",\"France\",\"Germany\",\"Greece\",\"Hungary\",\"Ireland\",\"Italy\",\"Kosovo\",\"Latvia\",\"Lithuania\",\"Luxembourg\",\"Montenegro\",\"Netherlands\",\"North Macedonia\",\"Norway\",\"Poland\",\"Portugal\",\"Romania\",\"Serbia\",\"Slovakia\",\"Slovenia\",\"Spain\",\"Sweden\",\"Turkey\",\"United Kingdom\"],\"type\":\"scatter\"},{\"marker\":{\"color\":\"red\",\"size\":10},\"mode\":\"markers\",\"name\":\"Women\",\"visible\":true,\"x\":[0.0,0.0,26.0,4.0,15.0,2.0,0.0,7.0,2.0,5.0,2.0,14.0,5.0,3.0,2.0,4.0,13.0,1.0,3.0,7.0,0.0,0.0,0.0,4.0,1.0,5.0,8.0,1.0,0.0,0.0,2.0,2.0,15.0,25.0,1.0,41.0],\"y\":[\"Albania\",\"Austria\",\"Belgium\",\"Bosnia and Herzegovina\",\"Bulgaria\",\"Croatia\",\"Cyprus\",\"Czech Republic\",\"Denmark\",\"EEA countries (non-EU)\",\"Estonia\",\"Finland\",\"France\",\"Germany\",\"Greece\",\"Hungary\",\"Ireland\",\"Italy\",\"Kosovo\",\"Latvia\",\"Lithuania\",\"Luxembourg\",\"Montenegro\",\"Netherlands\",\"North Macedonia\",\"Norway\",\"Poland\",\"Portugal\",\"Romania\",\"Serbia\",\"Slovakia\",\"Slovenia\",\"Spain\",\"Sweden\",\"Turkey\",\"United Kingdom\"],\"type\":\"scatter\"},{\"marker\":{\"color\":\"blue\",\"size\":10},\"mode\":\"markers\",\"name\":\"Men\",\"visible\":false,\"x\":[7.0,36.0,19.0,28.0,23.0,25.0,10.0,61.0,15.0,24.0,15.0,16.0,60.0,96.0,53.0,35.0,6.0,7.0,234.0,12.0,12.0,6.0,18.0,3.0,9.0,4.0,21.0,10.0,12.0,75.0,39.0,25.0,15.0,43.0,18.0,60.0,12.0,331.0,11.0],\"y\":[\"Albania\",\"Austria\",\"Belgium\",\"Bosnia and Herzegovina\",\"Bulgaria\",\"Croatia\",\"Cyprus\",\"Czechia\",\"Denmark\",\"EEA countries (non-EU)\",\"Estonia\",\"Finland\",\"France\",\"Germany\",\"Greece\",\"Hungary\",\"Iceland\",\"Ireland\",\"Italy\",\"Kosovo\",\"Latvia\",\"Liechtenstein\",\"Lithuania\",\"Luxembourg\",\"Malta\",\"Montenegro\",\"Netherlands\",\"North Macedonia\",\"Norway\",\"Poland\",\"Portugal\",\"Romania\",\"Serbia\",\"Slovakia\",\"Slovenia\",\"Spain\",\"Sweden\",\"Turkey\",\"United Kingdom\"],\"type\":\"scatter\"},{\"marker\":{\"color\":\"red\",\"size\":10},\"mode\":\"markers\",\"name\":\"Women\",\"visible\":false,\"x\":[1.0,25.0,11.0,25.0,72.0,12.0,4.0,10.0,4.0,12.0,5.0,6.0,65.0,57.0,27.0,55.0,2.0,2.0,127.0,4.0,21.0,1.0,12.0,2.0,2.0,11.0,15.0,11.0,9.0,22.0,19.0,84.0,27.0,43.0,12.0,14.0,5.0,47.0,2.0],\"y\":[\"Albania\",\"Austria\",\"Belgium\",\"Bosnia and Herzegovina\",\"Bulgaria\",\"Croatia\",\"Cyprus\",\"Czechia\",\"Denmark\",\"EEA countries (non-EU)\",\"Estonia\",\"Finland\",\"France\",\"Germany\",\"Greece\",\"Hungary\",\"Iceland\",\"Ireland\",\"Italy\",\"Kosovo\",\"Latvia\",\"Liechtenstein\",\"Lithuania\",\"Luxembourg\",\"Malta\",\"Montenegro\",\"Netherlands\",\"North Macedonia\",\"Norway\",\"Poland\",\"Portugal\",\"Romania\",\"Serbia\",\"Slovakia\",\"Slovenia\",\"Spain\",\"Sweden\",\"Turkey\",\"United Kingdom\"],\"type\":\"scatter\"},{\"marker\":{\"color\":\"blue\",\"size\":10},\"mode\":\"markers\",\"name\":\"Men\",\"visible\":false,\"x\":[72.0,162.0,1772.0,16349.0,4710.0,1675.0,2516.0,1358.0,6421.0,11234.0,2740.0,134.0,460.0,283.0],\"y\":[\"A Agriculture, hunting and forestry\",\"B Fishing\",\"C Mining and quarrying\",\"D Manufacturing\",\"E Electricity, gas and water supply\",\"F Construction\",\"G Wholesale and retail trade; repair of motor vehicles, motorcycles and personal and household goods\",\"H Hotels and restaurants\",\"I Transport, storage and communication\",\"J Financial intermediation\",\"K Real estate, renting and business activities, consulting\",\"L Public administration and defence; compulsory social security\",\"N Health and social work\",\"O Other community, social and personal service activities\"],\"type\":\"scatter\"},{\"marker\":{\"color\":\"red\",\"size\":10},\"mode\":\"markers\",\"name\":\"Women\",\"visible\":false,\"x\":[45.0,94.0,673.0,6803.0,1770.0,510.0,1060.0,338.0,2600.0,4751.0,1235.0,38.0,170.0,100.0],\"y\":[\"A Agriculture, hunting and forestry\",\"B Fishing\",\"C Mining and quarrying\",\"D Manufacturing\",\"E Electricity, gas and water supply\",\"F Construction\",\"G Wholesale and retail trade; repair of motor vehicles, motorcycles and personal and household goods\",\"H Hotels and restaurants\",\"I Transport, storage and communication\",\"J Financial intermediation\",\"K Real estate, renting and business activities, consulting\",\"L Public administration and defence; compulsory social security\",\"N Health and social work\",\"O Other community, social and personal service activities\"],\"type\":\"scatter\"}],                        {\"template\":{\"data\":{\"histogram2dcontour\":[{\"type\":\"histogram2dcontour\",\"colorbar\":{\"outlinewidth\":0,\"ticks\":\"\"},\"colorscale\":[[0.0,\"#0d0887\"],[0.1111111111111111,\"#46039f\"],[0.2222222222222222,\"#7201a8\"],[0.3333333333333333,\"#9c179e\"],[0.4444444444444444,\"#bd3786\"],[0.5555555555555556,\"#d8576b\"],[0.6666666666666666,\"#ed7953\"],[0.7777777777777778,\"#fb9f3a\"],[0.8888888888888888,\"#fdca26\"],[1.0,\"#f0f921\"]]}],\"choropleth\":[{\"type\":\"choropleth\",\"colorbar\":{\"outlinewidth\":0,\"ticks\":\"\"}}],\"histogram2d\":[{\"type\":\"histogram2d\",\"colorbar\":{\"outlinewidth\":0,\"ticks\":\"\"},\"colorscale\":[[0.0,\"#0d0887\"],[0.1111111111111111,\"#46039f\"],[0.2222222222222222,\"#7201a8\"],[0.3333333333333333,\"#9c179e\"],[0.4444444444444444,\"#bd3786\"],[0.5555555555555556,\"#d8576b\"],[0.6666666666666666,\"#ed7953\"],[0.7777777777777778,\"#fb9f3a\"],[0.8888888888888888,\"#fdca26\"],[1.0,\"#f0f921\"]]}],\"heatmap\":[{\"type\":\"heatmap\",\"colorbar\":{\"outlinewidth\":0,\"ticks\":\"\"},\"colorscale\":[[0.0,\"#0d0887\"],[0.1111111111111111,\"#46039f\"],[0.2222222222222222,\"#7201a8\"],[0.3333333333333333,\"#9c179e\"],[0.4444444444444444,\"#bd3786\"],[0.5555555555555556,\"#d8576b\"],[0.6666666666666666,\"#ed7953\"],[0.7777777777777778,\"#fb9f3a\"],[0.8888888888888888,\"#fdca26\"],[1.0,\"#f0f921\"]]}],\"heatmapgl\":[{\"type\":\"heatmapgl\",\"colorbar\":{\"outlinewidth\":0,\"ticks\":\"\"},\"colorscale\":[[0.0,\"#0d0887\"],[0.1111111111111111,\"#46039f\"],[0.2222222222222222,\"#7201a8\"],[0.3333333333333333,\"#9c179e\"],[0.4444444444444444,\"#bd3786\"],[0.5555555555555556,\"#d8576b\"],[0.6666666666666666,\"#ed7953\"],[0.7777777777777778,\"#fb9f3a\"],[0.8888888888888888,\"#fdca26\"],[1.0,\"#f0f921\"]]}],\"contourcarpet\":[{\"type\":\"contourcarpet\",\"colorbar\":{\"outlinewidth\":0,\"ticks\":\"\"}}],\"contour\":[{\"type\":\"contour\",\"colorbar\":{\"outlinewidth\":0,\"ticks\":\"\"},\"colorscale\":[[0.0,\"#0d0887\"],[0.1111111111111111,\"#46039f\"],[0.2222222222222222,\"#7201a8\"],[0.3333333333333333,\"#9c179e\"],[0.4444444444444444,\"#bd3786\"],[0.5555555555555556,\"#d8576b\"],[0.6666666666666666,\"#ed7953\"],[0.7777777777777778,\"#fb9f3a\"],[0.8888888888888888,\"#fdca26\"],[1.0,\"#f0f921\"]]}],\"surface\":[{\"type\":\"surface\",\"colorbar\":{\"outlinewidth\":0,\"ticks\":\"\"},\"colorscale\":[[0.0,\"#0d0887\"],[0.1111111111111111,\"#46039f\"],[0.2222222222222222,\"#7201a8\"],[0.3333333333333333,\"#9c179e\"],[0.4444444444444444,\"#bd3786\"],[0.5555555555555556,\"#d8576b\"],[0.6666666666666666,\"#ed7953\"],[0.7777777777777778,\"#fb9f3a\"],[0.8888888888888888,\"#fdca26\"],[1.0,\"#f0f921\"]]}],\"mesh3d\":[{\"type\":\"mesh3d\",\"colorbar\":{\"outlinewidth\":0,\"ticks\":\"\"}}],\"scatter\":[{\"fillpattern\":{\"fillmode\":\"overlay\",\"size\":10,\"solidity\":0.2},\"type\":\"scatter\"}],\"parcoords\":[{\"type\":\"parcoords\",\"line\":{\"colorbar\":{\"outlinewidth\":0,\"ticks\":\"\"}}}],\"scatterpolargl\":[{\"type\":\"scatterpolargl\",\"marker\":{\"colorbar\":{\"outlinewidth\":0,\"ticks\":\"\"}}}],\"bar\":[{\"error_x\":{\"color\":\"#2a3f5f\"},\"error_y\":{\"color\":\"#2a3f5f\"},\"marker\":{\"line\":{\"color\":\"#E5ECF6\",\"width\":0.5},\"pattern\":{\"fillmode\":\"overlay\",\"size\":10,\"solidity\":0.2}},\"type\":\"bar\"}],\"scattergeo\":[{\"type\":\"scattergeo\",\"marker\":{\"colorbar\":{\"outlinewidth\":0,\"ticks\":\"\"}}}],\"scatterpolar\":[{\"type\":\"scatterpolar\",\"marker\":{\"colorbar\":{\"outlinewidth\":0,\"ticks\":\"\"}}}],\"histogram\":[{\"marker\":{\"pattern\":{\"fillmode\":\"overlay\",\"size\":10,\"solidity\":0.2}},\"type\":\"histogram\"}],\"scattergl\":[{\"type\":\"scattergl\",\"marker\":{\"colorbar\":{\"outlinewidth\":0,\"ticks\":\"\"}}}],\"scatter3d\":[{\"type\":\"scatter3d\",\"line\":{\"colorbar\":{\"outlinewidth\":0,\"ticks\":\"\"}},\"marker\":{\"colorbar\":{\"outlinewidth\":0,\"ticks\":\"\"}}}],\"scattermapbox\":[{\"type\":\"scattermapbox\",\"marker\":{\"colorbar\":{\"outlinewidth\":0,\"ticks\":\"\"}}}],\"scatterternary\":[{\"type\":\"scatterternary\",\"marker\":{\"colorbar\":{\"outlinewidth\":0,\"ticks\":\"\"}}}],\"scattercarpet\":[{\"type\":\"scattercarpet\",\"marker\":{\"colorbar\":{\"outlinewidth\":0,\"ticks\":\"\"}}}],\"carpet\":[{\"aaxis\":{\"endlinecolor\":\"#2a3f5f\",\"gridcolor\":\"white\",\"linecolor\":\"white\",\"minorgridcolor\":\"white\",\"startlinecolor\":\"#2a3f5f\"},\"baxis\":{\"endlinecolor\":\"#2a3f5f\",\"gridcolor\":\"white\",\"linecolor\":\"white\",\"minorgridcolor\":\"white\",\"startlinecolor\":\"#2a3f5f\"},\"type\":\"carpet\"}],\"table\":[{\"cells\":{\"fill\":{\"color\":\"#EBF0F8\"},\"line\":{\"color\":\"white\"}},\"header\":{\"fill\":{\"color\":\"#C8D4E3\"},\"line\":{\"color\":\"white\"}},\"type\":\"table\"}],\"barpolar\":[{\"marker\":{\"line\":{\"color\":\"#E5ECF6\",\"width\":0.5},\"pattern\":{\"fillmode\":\"overlay\",\"size\":10,\"solidity\":0.2}},\"type\":\"barpolar\"}],\"pie\":[{\"automargin\":true,\"type\":\"pie\"}]},\"layout\":{\"autotypenumbers\":\"strict\",\"colorway\":[\"#636efa\",\"#EF553B\",\"#00cc96\",\"#ab63fa\",\"#FFA15A\",\"#19d3f3\",\"#FF6692\",\"#B6E880\",\"#FF97FF\",\"#FECB52\"],\"font\":{\"color\":\"#2a3f5f\"},\"hovermode\":\"closest\",\"hoverlabel\":{\"align\":\"left\"},\"paper_bgcolor\":\"white\",\"plot_bgcolor\":\"#E5ECF6\",\"polar\":{\"bgcolor\":\"#E5ECF6\",\"angularaxis\":{\"gridcolor\":\"white\",\"linecolor\":\"white\",\"ticks\":\"\"},\"radialaxis\":{\"gridcolor\":\"white\",\"linecolor\":\"white\",\"ticks\":\"\"}},\"ternary\":{\"bgcolor\":\"#E5ECF6\",\"aaxis\":{\"gridcolor\":\"white\",\"linecolor\":\"white\",\"ticks\":\"\"},\"baxis\":{\"gridcolor\":\"white\",\"linecolor\":\"white\",\"ticks\":\"\"},\"caxis\":{\"gridcolor\":\"white\",\"linecolor\":\"white\",\"ticks\":\"\"}},\"coloraxis\":{\"colorbar\":{\"outlinewidth\":0,\"ticks\":\"\"}},\"colorscale\":{\"sequential\":[[0.0,\"#0d0887\"],[0.1111111111111111,\"#46039f\"],[0.2222222222222222,\"#7201a8\"],[0.3333333333333333,\"#9c179e\"],[0.4444444444444444,\"#bd3786\"],[0.5555555555555556,\"#d8576b\"],[0.6666666666666666,\"#ed7953\"],[0.7777777777777778,\"#fb9f3a\"],[0.8888888888888888,\"#fdca26\"],[1.0,\"#f0f921\"]],\"sequentialminus\":[[0.0,\"#0d0887\"],[0.1111111111111111,\"#46039f\"],[0.2222222222222222,\"#7201a8\"],[0.3333333333333333,\"#9c179e\"],[0.4444444444444444,\"#bd3786\"],[0.5555555555555556,\"#d8576b\"],[0.6666666666666666,\"#ed7953\"],[0.7777777777777778,\"#fb9f3a\"],[0.8888888888888888,\"#fdca26\"],[1.0,\"#f0f921\"]],\"diverging\":[[0,\"#8e0152\"],[0.1,\"#c51b7d\"],[0.2,\"#de77ae\"],[0.3,\"#f1b6da\"],[0.4,\"#fde0ef\"],[0.5,\"#f7f7f7\"],[0.6,\"#e6f5d0\"],[0.7,\"#b8e186\"],[0.8,\"#7fbc41\"],[0.9,\"#4d9221\"],[1,\"#276419\"]]},\"xaxis\":{\"gridcolor\":\"white\",\"linecolor\":\"white\",\"ticks\":\"\",\"title\":{\"standoff\":15},\"zerolinecolor\":\"white\",\"automargin\":true,\"zerolinewidth\":2},\"yaxis\":{\"gridcolor\":\"white\",\"linecolor\":\"white\",\"ticks\":\"\",\"title\":{\"standoff\":15},\"zerolinecolor\":\"white\",\"automargin\":true,\"zerolinewidth\":2},\"scene\":{\"xaxis\":{\"backgroundcolor\":\"#E5ECF6\",\"gridcolor\":\"white\",\"linecolor\":\"white\",\"showbackground\":true,\"ticks\":\"\",\"zerolinecolor\":\"white\",\"gridwidth\":2},\"yaxis\":{\"backgroundcolor\":\"#E5ECF6\",\"gridcolor\":\"white\",\"linecolor\":\"white\",\"showbackground\":true,\"ticks\":\"\",\"zerolinecolor\":\"white\",\"gridwidth\":2},\"zaxis\":{\"backgroundcolor\":\"#E5ECF6\",\"gridcolor\":\"white\",\"linecolor\":\"white\",\"showbackground\":true,\"ticks\":\"\",\"zerolinecolor\":\"white\",\"gridwidth\":2}},\"shapedefaults\":{\"line\":{\"color\":\"#2a3f5f\"}},\"annotationdefaults\":{\"arrowcolor\":\"#2a3f5f\",\"arrowhead\":0,\"arrowwidth\":1},\"geo\":{\"bgcolor\":\"white\",\"landcolor\":\"#E5ECF6\",\"subunitcolor\":\"white\",\"showland\":true,\"showlakes\":true,\"lakecolor\":\"white\"},\"title\":{\"x\":0.05},\"mapbox\":{\"style\":\"light\"}}},\"shapes\":[{\"layer\":\"below\",\"line\":{\"color\":\"crimson\",\"width\":3},\"type\":\"line\",\"x0\":6.0,\"x1\":0.0,\"y0\":0,\"y1\":0},{\"layer\":\"below\",\"line\":{\"color\":\"crimson\",\"width\":3},\"type\":\"line\",\"x0\":5.0,\"x1\":0.0,\"y0\":1,\"y1\":1},{\"layer\":\"below\",\"line\":{\"color\":\"crimson\",\"width\":3},\"type\":\"line\",\"x0\":45.0,\"x1\":26.0,\"y0\":2,\"y1\":2},{\"layer\":\"below\",\"line\":{\"color\":\"crimson\",\"width\":3},\"type\":\"line\",\"x0\":13.0,\"x1\":4.0,\"y0\":3,\"y1\":3},{\"layer\":\"below\",\"line\":{\"color\":\"crimson\",\"width\":3},\"type\":\"line\",\"x0\":13.0,\"x1\":15.0,\"y0\":4,\"y1\":4},{\"layer\":\"below\",\"line\":{\"color\":\"crimson\",\"width\":3},\"type\":\"line\",\"x0\":16.0,\"x1\":2.0,\"y0\":5,\"y1\":5},{\"layer\":\"below\",\"line\":{\"color\":\"crimson\",\"width\":3},\"type\":\"line\",\"x0\":5.0,\"x1\":0.0,\"y0\":6,\"y1\":6},{\"layer\":\"below\",\"line\":{\"color\":\"crimson\",\"width\":3},\"type\":\"line\",\"x0\":11.0,\"x1\":7.0,\"y0\":7,\"y1\":7},{\"layer\":\"below\",\"line\":{\"color\":\"crimson\",\"width\":3},\"type\":\"line\",\"x0\":5.0,\"x1\":2.0,\"y0\":8,\"y1\":8},{\"layer\":\"below\",\"line\":{\"color\":\"crimson\",\"width\":3},\"type\":\"line\",\"x0\":3.0,\"x1\":5.0,\"y0\":9,\"y1\":9},{\"layer\":\"below\",\"line\":{\"color\":\"crimson\",\"width\":3},\"type\":\"line\",\"x0\":11.0,\"x1\":2.0,\"y0\":10,\"y1\":10},{\"layer\":\"below\",\"line\":{\"color\":\"crimson\",\"width\":3},\"type\":\"line\",\"x0\":28.0,\"x1\":14.0,\"y0\":11,\"y1\":11},{\"layer\":\"below\",\"line\":{\"color\":\"crimson\",\"width\":3},\"type\":\"line\",\"x0\":36.0,\"x1\":5.0,\"y0\":12,\"y1\":12},{\"layer\":\"below\",\"line\":{\"color\":\"crimson\",\"width\":3},\"type\":\"line\",\"x0\":9.0,\"x1\":3.0,\"y0\":13,\"y1\":13},{\"layer\":\"below\",\"line\":{\"color\":\"crimson\",\"width\":3},\"type\":\"line\",\"x0\":8.0,\"x1\":2.0,\"y0\":14,\"y1\":14},{\"layer\":\"below\",\"line\":{\"color\":\"crimson\",\"width\":3},\"type\":\"line\",\"x0\":34.0,\"x1\":4.0,\"y0\":15,\"y1\":15},{\"layer\":\"below\",\"line\":{\"color\":\"crimson\",\"width\":3},\"type\":\"line\",\"x0\":12.0,\"x1\":13.0,\"y0\":16,\"y1\":16},{\"layer\":\"below\",\"line\":{\"color\":\"crimson\",\"width\":3},\"type\":\"line\",\"x0\":8.0,\"x1\":1.0,\"y0\":17,\"y1\":17},{\"layer\":\"below\",\"line\":{\"color\":\"crimson\",\"width\":3},\"type\":\"line\",\"x0\":6.0,\"x1\":3.0,\"y0\":18,\"y1\":18},{\"layer\":\"below\",\"line\":{\"color\":\"crimson\",\"width\":3},\"type\":\"line\",\"x0\":19.0,\"x1\":7.0,\"y0\":19,\"y1\":19},{\"layer\":\"below\",\"line\":{\"color\":\"crimson\",\"width\":3},\"type\":\"line\",\"x0\":9.0,\"x1\":0.0,\"y0\":20,\"y1\":20},{\"layer\":\"below\",\"line\":{\"color\":\"crimson\",\"width\":3},\"type\":\"line\",\"x0\":1.0,\"x1\":0.0,\"y0\":21,\"y1\":21},{\"layer\":\"below\",\"line\":{\"color\":\"crimson\",\"width\":3},\"type\":\"line\",\"x0\":9.0,\"x1\":0.0,\"y0\":22,\"y1\":22},{\"layer\":\"below\",\"line\":{\"color\":\"crimson\",\"width\":3},\"type\":\"line\",\"x0\":4.0,\"x1\":4.0,\"y0\":23,\"y1\":23},{\"layer\":\"below\",\"line\":{\"color\":\"crimson\",\"width\":3},\"type\":\"line\",\"x0\":11.0,\"x1\":1.0,\"y0\":24,\"y1\":24},{\"layer\":\"below\",\"line\":{\"color\":\"crimson\",\"width\":3},\"type\":\"line\",\"x0\":3.0,\"x1\":5.0,\"y0\":25,\"y1\":25},{\"layer\":\"below\",\"line\":{\"color\":\"crimson\",\"width\":3},\"type\":\"line\",\"x0\":47.0,\"x1\":8.0,\"y0\":26,\"y1\":26},{\"layer\":\"below\",\"line\":{\"color\":\"crimson\",\"width\":3},\"type\":\"line\",\"x0\":7.0,\"x1\":1.0,\"y0\":27,\"y1\":27},{\"layer\":\"below\",\"line\":{\"color\":\"crimson\",\"width\":3},\"type\":\"line\",\"x0\":7.0,\"x1\":0.0,\"y0\":28,\"y1\":28},{\"layer\":\"below\",\"line\":{\"color\":\"crimson\",\"width\":3},\"type\":\"line\",\"x0\":15.0,\"x1\":0.0,\"y0\":29,\"y1\":29},{\"layer\":\"below\",\"line\":{\"color\":\"crimson\",\"width\":3},\"type\":\"line\",\"x0\":21.0,\"x1\":2.0,\"y0\":30,\"y1\":30},{\"layer\":\"below\",\"line\":{\"color\":\"crimson\",\"width\":3},\"type\":\"line\",\"x0\":12.0,\"x1\":2.0,\"y0\":31,\"y1\":31},{\"layer\":\"below\",\"line\":{\"color\":\"crimson\",\"width\":3},\"type\":\"line\",\"x0\":83.0,\"x1\":15.0,\"y0\":32,\"y1\":32},{\"layer\":\"below\",\"line\":{\"color\":\"crimson\",\"width\":3},\"type\":\"line\",\"x0\":42.0,\"x1\":25.0,\"y0\":33,\"y1\":33},{\"layer\":\"below\",\"line\":{\"color\":\"crimson\",\"width\":3},\"type\":\"line\",\"x0\":11.0,\"x1\":1.0,\"y0\":34,\"y1\":34},{\"layer\":\"below\",\"line\":{\"color\":\"crimson\",\"width\":3},\"type\":\"line\",\"x0\":56.0,\"x1\":41.0,\"y0\":35,\"y1\":35}],\"yaxis\":{\"dtick\":1},\"margin\":{\"t\":0,\"b\":0},\"updatemenus\":[{\"buttons\":[{\"args\":[{\"visible\":[true,true,false,false,false,false]},{\"shapes\":[{\"type\":\"line\",\"x0\":6.0,\"y0\":0,\"x1\":0.0,\"y1\":0,\"line\":{\"color\":\"crimson\",\"width\":3},\"layer\":\"below\"},{\"type\":\"line\",\"x0\":5.0,\"y0\":1,\"x1\":0.0,\"y1\":1,\"line\":{\"color\":\"crimson\",\"width\":3},\"layer\":\"below\"},{\"type\":\"line\",\"x0\":45.0,\"y0\":2,\"x1\":26.0,\"y1\":2,\"line\":{\"color\":\"crimson\",\"width\":3},\"layer\":\"below\"},{\"type\":\"line\",\"x0\":13.0,\"y0\":3,\"x1\":4.0,\"y1\":3,\"line\":{\"color\":\"crimson\",\"width\":3},\"layer\":\"below\"},{\"type\":\"line\",\"x0\":13.0,\"y0\":4,\"x1\":15.0,\"y1\":4,\"line\":{\"color\":\"crimson\",\"width\":3},\"layer\":\"below\"},{\"type\":\"line\",\"x0\":16.0,\"y0\":5,\"x1\":2.0,\"y1\":5,\"line\":{\"color\":\"crimson\",\"width\":3},\"layer\":\"below\"},{\"type\":\"line\",\"x0\":5.0,\"y0\":6,\"x1\":0.0,\"y1\":6,\"line\":{\"color\":\"crimson\",\"width\":3},\"layer\":\"below\"},{\"type\":\"line\",\"x0\":11.0,\"y0\":7,\"x1\":7.0,\"y1\":7,\"line\":{\"color\":\"crimson\",\"width\":3},\"layer\":\"below\"},{\"type\":\"line\",\"x0\":5.0,\"y0\":8,\"x1\":2.0,\"y1\":8,\"line\":{\"color\":\"crimson\",\"width\":3},\"layer\":\"below\"},{\"type\":\"line\",\"x0\":3.0,\"y0\":9,\"x1\":5.0,\"y1\":9,\"line\":{\"color\":\"crimson\",\"width\":3},\"layer\":\"below\"},{\"type\":\"line\",\"x0\":11.0,\"y0\":10,\"x1\":2.0,\"y1\":10,\"line\":{\"color\":\"crimson\",\"width\":3},\"layer\":\"below\"},{\"type\":\"line\",\"x0\":28.0,\"y0\":11,\"x1\":14.0,\"y1\":11,\"line\":{\"color\":\"crimson\",\"width\":3},\"layer\":\"below\"},{\"type\":\"line\",\"x0\":36.0,\"y0\":12,\"x1\":5.0,\"y1\":12,\"line\":{\"color\":\"crimson\",\"width\":3},\"layer\":\"below\"},{\"type\":\"line\",\"x0\":9.0,\"y0\":13,\"x1\":3.0,\"y1\":13,\"line\":{\"color\":\"crimson\",\"width\":3},\"layer\":\"below\"},{\"type\":\"line\",\"x0\":8.0,\"y0\":14,\"x1\":2.0,\"y1\":14,\"line\":{\"color\":\"crimson\",\"width\":3},\"layer\":\"below\"},{\"type\":\"line\",\"x0\":34.0,\"y0\":15,\"x1\":4.0,\"y1\":15,\"line\":{\"color\":\"crimson\",\"width\":3},\"layer\":\"below\"},{\"type\":\"line\",\"x0\":12.0,\"y0\":16,\"x1\":13.0,\"y1\":16,\"line\":{\"color\":\"crimson\",\"width\":3},\"layer\":\"below\"},{\"type\":\"line\",\"x0\":8.0,\"y0\":17,\"x1\":1.0,\"y1\":17,\"line\":{\"color\":\"crimson\",\"width\":3},\"layer\":\"below\"},{\"type\":\"line\",\"x0\":6.0,\"y0\":18,\"x1\":3.0,\"y1\":18,\"line\":{\"color\":\"crimson\",\"width\":3},\"layer\":\"below\"},{\"type\":\"line\",\"x0\":19.0,\"y0\":19,\"x1\":7.0,\"y1\":19,\"line\":{\"color\":\"crimson\",\"width\":3},\"layer\":\"below\"},{\"type\":\"line\",\"x0\":9.0,\"y0\":20,\"x1\":0.0,\"y1\":20,\"line\":{\"color\":\"crimson\",\"width\":3},\"layer\":\"below\"},{\"type\":\"line\",\"x0\":1.0,\"y0\":21,\"x1\":0.0,\"y1\":21,\"line\":{\"color\":\"crimson\",\"width\":3},\"layer\":\"below\"},{\"type\":\"line\",\"x0\":9.0,\"y0\":22,\"x1\":0.0,\"y1\":22,\"line\":{\"color\":\"crimson\",\"width\":3},\"layer\":\"below\"},{\"type\":\"line\",\"x0\":4.0,\"y0\":23,\"x1\":4.0,\"y1\":23,\"line\":{\"color\":\"crimson\",\"width\":3},\"layer\":\"below\"},{\"type\":\"line\",\"x0\":11.0,\"y0\":24,\"x1\":1.0,\"y1\":24,\"line\":{\"color\":\"crimson\",\"width\":3},\"layer\":\"below\"},{\"type\":\"line\",\"x0\":3.0,\"y0\":25,\"x1\":5.0,\"y1\":25,\"line\":{\"color\":\"crimson\",\"width\":3},\"layer\":\"below\"},{\"type\":\"line\",\"x0\":47.0,\"y0\":26,\"x1\":8.0,\"y1\":26,\"line\":{\"color\":\"crimson\",\"width\":3},\"layer\":\"below\"},{\"type\":\"line\",\"x0\":7.0,\"y0\":27,\"x1\":1.0,\"y1\":27,\"line\":{\"color\":\"crimson\",\"width\":3},\"layer\":\"below\"},{\"type\":\"line\",\"x0\":7.0,\"y0\":28,\"x1\":0.0,\"y1\":28,\"line\":{\"color\":\"crimson\",\"width\":3},\"layer\":\"below\"},{\"type\":\"line\",\"x0\":15.0,\"y0\":29,\"x1\":0.0,\"y1\":29,\"line\":{\"color\":\"crimson\",\"width\":3},\"layer\":\"below\"},{\"type\":\"line\",\"x0\":21.0,\"y0\":30,\"x1\":2.0,\"y1\":30,\"line\":{\"color\":\"crimson\",\"width\":3},\"layer\":\"below\"},{\"type\":\"line\",\"x0\":12.0,\"y0\":31,\"x1\":2.0,\"y1\":31,\"line\":{\"color\":\"crimson\",\"width\":3},\"layer\":\"below\"},{\"type\":\"line\",\"x0\":83.0,\"y0\":32,\"x1\":15.0,\"y1\":32,\"line\":{\"color\":\"crimson\",\"width\":3},\"layer\":\"below\"},{\"type\":\"line\",\"x0\":42.0,\"y0\":33,\"x1\":25.0,\"y1\":33,\"line\":{\"color\":\"crimson\",\"width\":3},\"layer\":\"below\"},{\"type\":\"line\",\"x0\":11.0,\"y0\":34,\"x1\":1.0,\"y1\":34,\"line\":{\"color\":\"crimson\",\"width\":3},\"layer\":\"below\"},{\"type\":\"line\",\"x0\":56.0,\"y0\":35,\"x1\":41.0,\"y1\":35,\"line\":{\"color\":\"crimson\",\"width\":3},\"layer\":\"below\"}]}],\"label\":\"Academics\",\"method\":\"update\"},{\"args\":[{\"visible\":[false,false,true,true,false,false]},{\"shapes\":[{\"type\":\"line\",\"x0\":7.0,\"y0\":0,\"x1\":1.0,\"y1\":0,\"line\":{\"color\":\"crimson\",\"width\":3},\"layer\":\"below\"},{\"type\":\"line\",\"x0\":36.0,\"y0\":1,\"x1\":25.0,\"y1\":1,\"line\":{\"color\":\"crimson\",\"width\":3},\"layer\":\"below\"},{\"type\":\"line\",\"x0\":19.0,\"y0\":2,\"x1\":11.0,\"y1\":2,\"line\":{\"color\":\"crimson\",\"width\":3},\"layer\":\"below\"},{\"type\":\"line\",\"x0\":28.0,\"y0\":3,\"x1\":25.0,\"y1\":3,\"line\":{\"color\":\"crimson\",\"width\":3},\"layer\":\"below\"},{\"type\":\"line\",\"x0\":23.0,\"y0\":4,\"x1\":72.0,\"y1\":4,\"line\":{\"color\":\"crimson\",\"width\":3},\"layer\":\"below\"},{\"type\":\"line\",\"x0\":25.0,\"y0\":5,\"x1\":12.0,\"y1\":5,\"line\":{\"color\":\"crimson\",\"width\":3},\"layer\":\"below\"},{\"type\":\"line\",\"x0\":10.0,\"y0\":6,\"x1\":4.0,\"y1\":6,\"line\":{\"color\":\"crimson\",\"width\":3},\"layer\":\"below\"},{\"type\":\"line\",\"x0\":61.0,\"y0\":7,\"x1\":10.0,\"y1\":7,\"line\":{\"color\":\"crimson\",\"width\":3},\"layer\":\"below\"},{\"type\":\"line\",\"x0\":15.0,\"y0\":8,\"x1\":4.0,\"y1\":8,\"line\":{\"color\":\"crimson\",\"width\":3},\"layer\":\"below\"},{\"type\":\"line\",\"x0\":24.0,\"y0\":9,\"x1\":12.0,\"y1\":9,\"line\":{\"color\":\"crimson\",\"width\":3},\"layer\":\"below\"},{\"type\":\"line\",\"x0\":15.0,\"y0\":10,\"x1\":5.0,\"y1\":10,\"line\":{\"color\":\"crimson\",\"width\":3},\"layer\":\"below\"},{\"type\":\"line\",\"x0\":16.0,\"y0\":11,\"x1\":6.0,\"y1\":11,\"line\":{\"color\":\"crimson\",\"width\":3},\"layer\":\"below\"},{\"type\":\"line\",\"x0\":60.0,\"y0\":12,\"x1\":65.0,\"y1\":12,\"line\":{\"color\":\"crimson\",\"width\":3},\"layer\":\"below\"},{\"type\":\"line\",\"x0\":96.0,\"y0\":13,\"x1\":57.0,\"y1\":13,\"line\":{\"color\":\"crimson\",\"width\":3},\"layer\":\"below\"},{\"type\":\"line\",\"x0\":53.0,\"y0\":14,\"x1\":27.0,\"y1\":14,\"line\":{\"color\":\"crimson\",\"width\":3},\"layer\":\"below\"},{\"type\":\"line\",\"x0\":35.0,\"y0\":15,\"x1\":55.0,\"y1\":15,\"line\":{\"color\":\"crimson\",\"width\":3},\"layer\":\"below\"},{\"type\":\"line\",\"x0\":6.0,\"y0\":16,\"x1\":2.0,\"y1\":16,\"line\":{\"color\":\"crimson\",\"width\":3},\"layer\":\"below\"},{\"type\":\"line\",\"x0\":7.0,\"y0\":17,\"x1\":2.0,\"y1\":17,\"line\":{\"color\":\"crimson\",\"width\":3},\"layer\":\"below\"},{\"type\":\"line\",\"x0\":234.0,\"y0\":18,\"x1\":127.0,\"y1\":18,\"line\":{\"color\":\"crimson\",\"width\":3},\"layer\":\"below\"},{\"type\":\"line\",\"x0\":12.0,\"y0\":19,\"x1\":4.0,\"y1\":19,\"line\":{\"color\":\"crimson\",\"width\":3},\"layer\":\"below\"},{\"type\":\"line\",\"x0\":12.0,\"y0\":20,\"x1\":21.0,\"y1\":20,\"line\":{\"color\":\"crimson\",\"width\":3},\"layer\":\"below\"},{\"type\":\"line\",\"x0\":6.0,\"y0\":21,\"x1\":1.0,\"y1\":21,\"line\":{\"color\":\"crimson\",\"width\":3},\"layer\":\"below\"},{\"type\":\"line\",\"x0\":18.0,\"y0\":22,\"x1\":12.0,\"y1\":22,\"line\":{\"color\":\"crimson\",\"width\":3},\"layer\":\"below\"},{\"type\":\"line\",\"x0\":3.0,\"y0\":23,\"x1\":2.0,\"y1\":23,\"line\":{\"color\":\"crimson\",\"width\":3},\"layer\":\"below\"},{\"type\":\"line\",\"x0\":9.0,\"y0\":24,\"x1\":2.0,\"y1\":24,\"line\":{\"color\":\"crimson\",\"width\":3},\"layer\":\"below\"},{\"type\":\"line\",\"x0\":4.0,\"y0\":25,\"x1\":11.0,\"y1\":25,\"line\":{\"color\":\"crimson\",\"width\":3},\"layer\":\"below\"},{\"type\":\"line\",\"x0\":21.0,\"y0\":26,\"x1\":15.0,\"y1\":26,\"line\":{\"color\":\"crimson\",\"width\":3},\"layer\":\"below\"},{\"type\":\"line\",\"x0\":10.0,\"y0\":27,\"x1\":11.0,\"y1\":27,\"line\":{\"color\":\"crimson\",\"width\":3},\"layer\":\"below\"},{\"type\":\"line\",\"x0\":12.0,\"y0\":28,\"x1\":9.0,\"y1\":28,\"line\":{\"color\":\"crimson\",\"width\":3},\"layer\":\"below\"},{\"type\":\"line\",\"x0\":75.0,\"y0\":29,\"x1\":22.0,\"y1\":29,\"line\":{\"color\":\"crimson\",\"width\":3},\"layer\":\"below\"},{\"type\":\"line\",\"x0\":39.0,\"y0\":30,\"x1\":19.0,\"y1\":30,\"line\":{\"color\":\"crimson\",\"width\":3},\"layer\":\"below\"},{\"type\":\"line\",\"x0\":25.0,\"y0\":31,\"x1\":84.0,\"y1\":31,\"line\":{\"color\":\"crimson\",\"width\":3},\"layer\":\"below\"},{\"type\":\"line\",\"x0\":15.0,\"y0\":32,\"x1\":27.0,\"y1\":32,\"line\":{\"color\":\"crimson\",\"width\":3},\"layer\":\"below\"},{\"type\":\"line\",\"x0\":43.0,\"y0\":33,\"x1\":43.0,\"y1\":33,\"line\":{\"color\":\"crimson\",\"width\":3},\"layer\":\"below\"},{\"type\":\"line\",\"x0\":18.0,\"y0\":34,\"x1\":12.0,\"y1\":34,\"line\":{\"color\":\"crimson\",\"width\":3},\"layer\":\"below\"},{\"type\":\"line\",\"x0\":60.0,\"y0\":35,\"x1\":14.0,\"y1\":35,\"line\":{\"color\":\"crimson\",\"width\":3},\"layer\":\"below\"},{\"type\":\"line\",\"x0\":12.0,\"y0\":36,\"x1\":5.0,\"y1\":36,\"line\":{\"color\":\"crimson\",\"width\":3},\"layer\":\"below\"},{\"type\":\"line\",\"x0\":331.0,\"y0\":37,\"x1\":47.0,\"y1\":37,\"line\":{\"color\":\"crimson\",\"width\":3},\"layer\":\"below\"},{\"type\":\"line\",\"x0\":11.0,\"y0\":38,\"x1\":2.0,\"y1\":38,\"line\":{\"color\":\"crimson\",\"width\":3},\"layer\":\"below\"}]}],\"label\":\"Judiciary\",\"method\":\"update\"},{\"args\":[{\"visible\":[false,false,false,false,true,true]},{\"shapes\":[{\"type\":\"line\",\"x0\":72.0,\"y0\":0,\"x1\":45.0,\"y1\":0,\"line\":{\"color\":\"crimson\",\"width\":3},\"layer\":\"below\"},{\"type\":\"line\",\"x0\":162.0,\"y0\":1,\"x1\":94.0,\"y1\":1,\"line\":{\"color\":\"crimson\",\"width\":3},\"layer\":\"below\"},{\"type\":\"line\",\"x0\":1772.0,\"y0\":2,\"x1\":673.0,\"y1\":2,\"line\":{\"color\":\"crimson\",\"width\":3},\"layer\":\"below\"},{\"type\":\"line\",\"x0\":16349.0,\"y0\":3,\"x1\":6803.0,\"y1\":3,\"line\":{\"color\":\"crimson\",\"width\":3},\"layer\":\"below\"},{\"type\":\"line\",\"x0\":4710.0,\"y0\":4,\"x1\":1770.0,\"y1\":4,\"line\":{\"color\":\"crimson\",\"width\":3},\"layer\":\"below\"},{\"type\":\"line\",\"x0\":1675.0,\"y0\":5,\"x1\":510.0,\"y1\":5,\"line\":{\"color\":\"crimson\",\"width\":3},\"layer\":\"below\"},{\"type\":\"line\",\"x0\":2516.0,\"y0\":6,\"x1\":1060.0,\"y1\":6,\"line\":{\"color\":\"crimson\",\"width\":3},\"layer\":\"below\"},{\"type\":\"line\",\"x0\":1358.0,\"y0\":7,\"x1\":338.0,\"y1\":7,\"line\":{\"color\":\"crimson\",\"width\":3},\"layer\":\"below\"},{\"type\":\"line\",\"x0\":6421.0,\"y0\":8,\"x1\":2600.0,\"y1\":8,\"line\":{\"color\":\"crimson\",\"width\":3},\"layer\":\"below\"},{\"type\":\"line\",\"x0\":11234.0,\"y0\":9,\"x1\":4751.0,\"y1\":9,\"line\":{\"color\":\"crimson\",\"width\":3},\"layer\":\"below\"},{\"type\":\"line\",\"x0\":2740.0,\"y0\":10,\"x1\":1235.0,\"y1\":10,\"line\":{\"color\":\"crimson\",\"width\":3},\"layer\":\"below\"},{\"type\":\"line\",\"x0\":134.0,\"y0\":11,\"x1\":38.0,\"y1\":11,\"line\":{\"color\":\"crimson\",\"width\":3},\"layer\":\"below\"},{\"type\":\"line\",\"x0\":460.0,\"y0\":12,\"x1\":170.0,\"y1\":12,\"line\":{\"color\":\"crimson\",\"width\":3},\"layer\":\"below\"},{\"type\":\"line\",\"x0\":283.0,\"y0\":13,\"x1\":100.0,\"y1\":13,\"line\":{\"color\":\"crimson\",\"width\":3},\"layer\":\"below\"}]}],\"label\":\"Business\",\"method\":\"update\"}],\"direction\":\"down\",\"pad\":{\"r\":10,\"t\":10},\"showactive\":true,\"x\":0.0,\"xanchor\":\"left\",\"y\":1.15,\"yanchor\":\"top\"}],\"title\":{\"text\":\"Who make decisions?\"},\"xaxis\":{\"title\":{\"text\":\"Headcount\"}},\"height\":800},                        {\"responsive\": true}                    ).then(function(){\n",
       "                            \n",
       "var gd = document.getElementById('6ba1b129-7984-41b3-8288-2f9092955d7e');\n",
       "var x = new MutationObserver(function (mutations, observer) {{\n",
       "        var display = window.getComputedStyle(gd).display;\n",
       "        if (!display || display === 'none') {{\n",
       "            console.log([gd, 'removed!']);\n",
       "            Plotly.purge(gd);\n",
       "            observer.disconnect();\n",
       "        }}\n",
       "}});\n",
       "\n",
       "// Listen for the removal of the full notebook cells\n",
       "var notebookContainer = gd.closest('#notebook-container');\n",
       "if (notebookContainer) {{\n",
       "    x.observe(notebookContainer, {childList: true});\n",
       "}}\n",
       "\n",
       "// Listen for the clearing of the current output cell\n",
       "var outputEl = gd.closest('.output');\n",
       "if (outputEl) {{\n",
       "    x.observe(outputEl, {childList: true});\n",
       "}}\n",
       "\n",
       "                        })                };                });            </script>        </div>"
      ]
     },
     "metadata": {},
     "output_type": "display_data"
    }
   ],
   "source": [
    "fig = go.Figure()\n",
    "\n",
    "\n",
    "for category in df['category'].unique():\n",
    "    df_subset =  df[(df['category']== category )]\n",
    "\n",
    "    fig.add_trace(go.Scatter(x=df_subset['Men'], y=df_subset['geo'], mode='markers', name='Men', marker_color='blue',  marker_size=10,visible=False))\n",
    "    fig.add_trace(go.Scatter(x=df_subset['Women'], y=df_subset['geo'], mode='markers', name='Women', marker_color='red', marker_size=10,visible=False))\n",
    "\n",
    "    if category == 'Academics':\n",
    "        for i in range(0, len(df_subset)):\n",
    "            fig.add_shape(type='line',\n",
    "                        x0 = df_subset['Men'].iloc[i],\n",
    "                        y0 = i,\n",
    "                        x1 = df_subset['Women'].iloc[i],\n",
    "                        y1 = i,\n",
    "                        line=dict(color='crimson', width = 3,),\n",
    "                        layer='below')\n",
    "\n",
    "fig.data[0].visible = True\n",
    "fig.data[1].visible = True\n",
    "\n",
    "kind = df['category'].unique()\n",
    "button = []\n",
    "for i in range(len(kind)):\n",
    "    \n",
    "    button_content = dict(label=kind[i],\n",
    "                            method=\"update\",\n",
    "                            args=[{\"visible\": [False] * len(fig.data)},\n",
    "                            {\"shapes\": []}])\n",
    "    if i == 0:\n",
    "        button_content['args'][0]['visible'][i] = True\n",
    "        button_content['args'][0]['visible'][i+1] = True\n",
    "    else:\n",
    "        button_content['args'][0]['visible'][i*2] = True\n",
    "        button_content['args'][0]['visible'][i*2+1] = True\n",
    "\n",
    "    \n",
    "    shape = []\n",
    "    category = df['category'].unique()[i]\n",
    "    df_subset =  df[(df['category']== category )]\n",
    "   \n",
    "    for j in range(len(df_subset)):\n",
    "        shape_content = dict(\n",
    "            type='line',\n",
    "            x0 = df_subset['Men'].iloc[j],\n",
    "            y0 = j,\n",
    "            x1 = df_subset['Women'].iloc[j],\n",
    "            y1 = j,\n",
    "            line=dict(color='crimson', width = 3,),\n",
    "            layer='below')\n",
    "        shape.append(shape_content)\n",
    "\n",
    "    button_content['args'][1]['shapes'] = shape\n",
    "\n",
    "    button.append(button_content)\n",
    "\n",
    "\n",
    "button_height = 0.15\n",
    "x1_loc = 0.00\n",
    "y1_loc = 1.15\n",
    "\n",
    "fig.update_layout(\n",
    "    # DEFINE A LIST OF THE VARIOUS BUTTONS (STORED AS DICTIONARIES)\n",
    "    updatemenus = [\n",
    "        dict(\n",
    "            buttons= list(button),\n",
    "            # PLACEMENT AND META DATA FOR THE BUTTON\n",
    "            direction=\"down\",\n",
    "            showactive=True,  # HIGHLIGHTS ACTIVE DROPDOWN ITEM OR ACTIVE BUTTON IF TRUE\n",
    "            pad={\"r\": 10, \"t\": 10},  # PADDING\n",
    "            x=x1_loc,  # POSITION\n",
    "            y=y1_loc,\n",
    "            xanchor=\"left\",  # ANCHOR POINT\n",
    "            yanchor=\"top\"\n",
    "        )\n",
    "    ],\n",
    "    title=\"Who make decisions?\",\n",
    "    xaxis_title=\"Headcount\",\n",
    "    #yaxis_title=\"Country\",\n",
    "    yaxis={\"dtick\":1},\n",
    "    margin={\"t\":0,\"b\":0},\n",
    "    height=800\n",
    "    \n",
    ")\n",
    "\n",
    "# SHOW\n",
    "fig.show()\n"
   ]
  },
  {
   "attachments": {},
   "cell_type": "markdown",
   "metadata": {},
   "source": [
    "## Scatter Plot"
   ]
  },
  {
   "cell_type": "code",
   "execution_count": 9,
   "metadata": {},
   "outputs": [],
   "source": [
    "import matplotlib.pyplot as plt\n",
    "import seaborn as sns\n",
    "from matplotlib.ticker import FormatStrFormatter"
   ]
  },
  {
   "cell_type": "code",
   "execution_count": 71,
   "metadata": {},
   "outputs": [
    {
     "data": {
      "text/html": [
       "<div>\n",
       "<style scoped>\n",
       "    .dataframe tbody tr th:only-of-type {\n",
       "        vertical-align: middle;\n",
       "    }\n",
       "\n",
       "    .dataframe tbody tr th {\n",
       "        vertical-align: top;\n",
       "    }\n",
       "\n",
       "    .dataframe thead th {\n",
       "        text-align: right;\n",
       "    }\n",
       "</style>\n",
       "<table border=\"1\" class=\"dataframe\">\n",
       "  <thead>\n",
       "    <tr style=\"text-align: right;\">\n",
       "      <th></th>\n",
       "      <th>Country</th>\n",
       "      <th>Men</th>\n",
       "      <th>Women</th>\n",
       "      <th>Category</th>\n",
       "    </tr>\n",
       "  </thead>\n",
       "  <tbody>\n",
       "    <tr>\n",
       "      <th>0</th>\n",
       "      <td>Australia</td>\n",
       "      <td>304.1</td>\n",
       "      <td>172.0</td>\n",
       "      <td>Paid</td>\n",
       "    </tr>\n",
       "    <tr>\n",
       "      <th>1</th>\n",
       "      <td>Austria</td>\n",
       "      <td>364.8</td>\n",
       "      <td>248.8</td>\n",
       "      <td>Paid</td>\n",
       "    </tr>\n",
       "    <tr>\n",
       "      <th>2</th>\n",
       "      <td>Belgium</td>\n",
       "      <td>273.7</td>\n",
       "      <td>199.2</td>\n",
       "      <td>Paid</td>\n",
       "    </tr>\n",
       "    <tr>\n",
       "      <th>3</th>\n",
       "      <td>Canada</td>\n",
       "      <td>340.5</td>\n",
       "      <td>268.3</td>\n",
       "      <td>Paid</td>\n",
       "    </tr>\n",
       "    <tr>\n",
       "      <th>4</th>\n",
       "      <td>China (People's Republic of)</td>\n",
       "      <td>390.0</td>\n",
       "      <td>291.0</td>\n",
       "      <td>Paid</td>\n",
       "    </tr>\n",
       "  </tbody>\n",
       "</table>\n",
       "</div>"
      ],
      "text/plain": [
       "                        Country    Men  Women Category\n",
       "0                     Australia  304.1  172.0     Paid\n",
       "1                       Austria  364.8  248.8     Paid\n",
       "2                       Belgium  273.7  199.2     Paid\n",
       "3                        Canada  340.5  268.3     Paid\n",
       "4  China (People's Republic of)  390.0  291.0     Paid"
      ]
     },
     "execution_count": 71,
     "metadata": {},
     "output_type": "execute_result"
    }
   ],
   "source": [
    "df2 = pd.read_csv(\"work_clean.csv\", encoding='UTF-8')\n",
    "df2.head()"
   ]
  },
  {
   "cell_type": "code",
   "execution_count": 72,
   "metadata": {},
   "outputs": [],
   "source": [
    "df_subset =  df2[(df2['Category']== \"Paid\")]\n",
    "df_subset2 =  df2[(df2['Category']== \"Unpaid\")]\n",
    "\n",
    "my_range_1 =range(1,len(df_subset.index)+1)\n",
    "my_range_2 =range(1,len(df_subset2.index)+1)\n"
   ]
  },
  {
   "cell_type": "code",
   "execution_count": 75,
   "metadata": {},
   "outputs": [
    {
     "data": {
      "image/png": "[encoded data removed]",
      "text/plain": [
       "<Figure size 640x480 with 2 Axes>"
      ]
     },
     "metadata": {},
     "output_type": "display_data"
    }
   ],
   "source": [
    "fig, axs = plt.subplots(nrows=2, ncols=1,sharex=True)\n",
    "\n",
    "for ax in axs:\n",
    "    ax.spines['top'].set_visible(False)\n",
    "    ax.spines['right'].set_visible(False)\n",
    "    ax.spines['left'].set_visible(False)\n",
    "    ax.spines['bottom'].set_visible(True) # Keep the frame of the x-axis\n",
    "    ax.tick_params(left=False)\n",
    "    ax.set_yticklabels([])\n",
    "\n",
    "sns.scatterplot(x = df_subset['Men'], y = my_range_1,ax=axs[0],label=\"Men\")\n",
    "sns.scatterplot(x = df_subset['Women'], y = my_range_1,ax=axs[0],label=\"Women\")\n",
    "axs[0].tick_params(labelbottom=True)\n",
    "axs[0].set_xlabel(\"\")\n",
    "axs[0].set_ylabel(\"Paid Work\")\n",
    "axs[0].get_legend().remove()\n",
    "\n",
    "plt.subplot(2, 1, 2)\n",
    "sns.scatterplot(x = df_subset2['Men'], y = my_range_2,ax=axs[1],label=\"Men\")\n",
    "sns.scatterplot(x = df_subset2['Women'], y = my_range_2,ax=axs[1],label=\"Women\")\n",
    "axs[1].set_xlabel(\"Time(min/day)\")\n",
    "axs[1].set_ylabel(\"Unpaid Work\")\n",
    "axs[1].get_legend().remove()\n",
    "\n",
    "\n",
    "fig.legend(labels=['Men', 'Women'],loc='upper right', bbox_to_anchor=(1.1, 0.9))\n",
    "fig.suptitle('Time Spending in Paid Work and Unpaid Work')\n",
    "\n",
    "plt.savefig(\"image/Work.png\")\n",
    "plt.show()"
   ]
  }
 ],
 "metadata": {
  "kernelspec": {
   "display_name": "anly503",
   "language": "python",
   "name": "python3"
  },
  "language_info": {
   "codemirror_mode": {
    "name": "ipython",
    "version": 3
   },
   "file_extension": ".py",
   "mimetype": "text/x-python",
   "name": "python",
   "nbconvert_exporter": "python",
   "pygments_lexer": "ipython3",
   "version": "3.10.8"
  },
  "orig_nbformat": 4
 },
 "nbformat": 4,
 "nbformat_minor": 2
}
